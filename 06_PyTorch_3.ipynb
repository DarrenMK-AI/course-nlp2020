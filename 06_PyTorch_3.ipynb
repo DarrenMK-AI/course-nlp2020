{
  "nbformat": 4,
  "nbformat_minor": 0,
  "metadata": {
    "colab": {
      "name": "06_PyTorch_3.ipynb",
      "provenance": [],
      "collapsed_sections": [],
      "mount_file_id": "1Ju5Lc6g45t9qjI0R2cFUAA1wHBFm2IeB",
      "authorship_tag": "ABX9TyMv1FKJrMR9eIZkIm49i0J5",
      "include_colab_link": true
    },
    "kernelspec": {
      "name": "python3",
      "display_name": "Python 3"
    },
    "accelerator": "GPU"
  },
  "cells": [
    {
      "cell_type": "markdown",
      "metadata": {
        "id": "view-in-github",
        "colab_type": "text"
      },
      "source": [
        "<a href=\"https://colab.research.google.com/github/tomonari-masada/course-nlp2020/blob/master/06_PyTorch_3.ipynb\" target=\"_parent\"><img src=\"https://colab.research.google.com/assets/colab-badge.svg\" alt=\"Open In Colab\"/></a>"
      ]
    },
    {
      "cell_type": "markdown",
      "metadata": {
        "id": "2hx2zN0IvyqF",
        "colab_type": "text"
      },
      "source": [
        "# 06 PyTorch入門　(3)\n",
        "* 参考資料\n",
        " * PyTorch公式のチュートリアル https://pytorch.org/tutorials/beginner/text_sentiment_ngrams_tutorial.html\n",
        "* データは前に作ったIMDbの文書埋め込みを使う。\n",
        "* もっと高度な手法については、下記リンク先を参照。\n",
        " * https://github.com/bentrevett/pytorch-sentiment-analysis"
      ]
    },
    {
      "cell_type": "markdown",
      "metadata": {
        "id": "B-hkFIH1xHUX",
        "colab_type": "text"
      },
      "source": [
        "## 06-01 MLPでsentiment analysis\n",
        "* 多層パーセプトロンでの分類は空気を吸ったり吐いたりするように自然にできるようにしておこう。"
      ]
    },
    {
      "cell_type": "code",
      "metadata": {
        "id": "9P3MzvmdrobX",
        "colab_type": "code",
        "colab": {}
      },
      "source": [
        "PATH = '/content/drive/My Drive/2020Courses/NLP/'"
      ],
      "execution_count": 1,
      "outputs": []
    },
    {
      "cell_type": "code",
      "metadata": {
        "id": "Mf-jw4S8rhTB",
        "colab_type": "code",
        "colab": {}
      },
      "source": [
        "import numpy as np\n",
        "import torch\n",
        "import torch.nn as nn\n",
        "import torch.nn.functional as F\n",
        "\n",
        "torch.manual_seed(123)\n",
        "\n",
        "device = torch.device(\"cuda\" if torch.cuda.is_available() else \"cpu\")"
      ],
      "execution_count": 2,
      "outputs": []
    },
    {
      "cell_type": "code",
      "metadata": {
        "id": "ETpwV-Lmw-K5",
        "colab_type": "code",
        "colab": {
          "base_uri": "https://localhost:8080/",
          "height": 34
        },
        "outputId": "fe51dd29-042f-4312-94e9-686a85144bdb"
      },
      "source": [
        "device"
      ],
      "execution_count": 3,
      "outputs": [
        {
          "output_type": "execute_result",
          "data": {
            "text/plain": [
              "device(type='cuda')"
            ]
          },
          "metadata": {
            "tags": []
          },
          "execution_count": 3
        }
      ]
    },
    {
      "cell_type": "code",
      "metadata": {
        "id": "WjF1vzSosL5l",
        "colab_type": "code",
        "colab": {}
      },
      "source": [
        "texts = dict()\n",
        "labels = dict()\n",
        "for tag in ['train', 'valid', 'test']:\n",
        "  with open(f'{PATH}{tag}.npy', 'rb') as f:\n",
        "    texts[tag] = np.load(f)\n",
        "  with open(f'{PATH}{tag}_labels.npy', 'rb') as f:\n",
        "    labels[tag] = np.load(f)"
      ],
      "execution_count": 4,
      "outputs": []
    },
    {
      "cell_type": "code",
      "metadata": {
        "id": "uE7RXSjEsWPU",
        "colab_type": "code",
        "colab": {
          "base_uri": "https://localhost:8080/",
          "height": 67
        },
        "outputId": "715eea78-f378-4a5b-d2e4-fa2620d4bf48"
      },
      "source": [
        "for tag in ['train', 'valid', 'test']:\n",
        "  print(texts[tag].shape)"
      ],
      "execution_count": 5,
      "outputs": [
        {
          "output_type": "stream",
          "text": [
            "(20000, 300)\n",
            "(5000, 300)\n",
            "(25000, 300)\n"
          ],
          "name": "stdout"
        }
      ]
    },
    {
      "cell_type": "code",
      "metadata": {
        "id": "KuEe746MtFtr",
        "colab_type": "code",
        "colab": {}
      },
      "source": [
        "for tag in ['train', 'valid', 'test']:\n",
        "  texts[tag], labels[tag] = torch.tensor(texts[tag]), torch.tensor(labels[tag])"
      ],
      "execution_count": 6,
      "outputs": []
    },
    {
      "cell_type": "code",
      "metadata": {
        "id": "1Klcm5_AucfM",
        "colab_type": "code",
        "colab": {}
      },
      "source": [
        "TRAIN_SIZE, EMBED_DIM = texts['train'].shape\n",
        "NUM_CLASS = len(torch.unique(labels['train']))\n",
        "\n",
        "DEV_SIZE = labels['valid'].shape[0]\n",
        "TEST_SIZE = labels['test'].shape[0]"
      ],
      "execution_count": 7,
      "outputs": []
    },
    {
      "cell_type": "code",
      "metadata": {
        "id": "RrkpdhR3vL1_",
        "colab_type": "code",
        "colab": {
          "base_uri": "https://localhost:8080/",
          "height": 34
        },
        "outputId": "40cf0609-9150-404e-fbce-16d992c52a26"
      },
      "source": [
        "print(EMBED_DIM, NUM_CLASS, TRAIN_SIZE, DEV_SIZE, TEST_SIZE)"
      ],
      "execution_count": 8,
      "outputs": [
        {
          "output_type": "stream",
          "text": [
            "300 2 20000 5000 25000\n"
          ],
          "name": "stdout"
        }
      ]
    },
    {
      "cell_type": "code",
      "metadata": {
        "id": "7TBR8VZLsq_H",
        "colab_type": "code",
        "colab": {}
      },
      "source": [
        "X_train, y_train = texts['train'], labels['train']\n",
        "X_dev, y_dev = texts['valid'], labels['valid']\n",
        "X_test, y_test = texts['test'], labels['test']"
      ],
      "execution_count": 9,
      "outputs": []
    },
    {
      "cell_type": "code",
      "metadata": {
        "id": "mfloEv0Osj2n",
        "colab_type": "code",
        "colab": {}
      },
      "source": [
        "from torch.utils.data import TensorDataset, DataLoader\n",
        "\n",
        "BATCH_SIZE = 100\n",
        "\n",
        "train_loader = DataLoader(TensorDataset(X_train, y_train), batch_size=BATCH_SIZE, shuffle=True)"
      ],
      "execution_count": 10,
      "outputs": []
    },
    {
      "cell_type": "code",
      "metadata": {
        "id": "PkRnetIrs9DX",
        "colab_type": "code",
        "colab": {}
      },
      "source": [
        "class TextSentiment(nn.Module):\n",
        "  def __init__(self, embed_dim, num_class):\n",
        "    super(TextSentiment, self).__init__()\n",
        "    self.fc1 = nn.Linear(embed_dim, 500)\n",
        "    self.fc2 = nn.Linear(500, 100)\n",
        "    self.fc3 = nn.Linear(100, num_class)\n",
        "    self.init_weights()\n",
        "\n",
        "  def init_weights(self):\n",
        "    initrange = 0.5\n",
        "    self.fc1.weight.data.uniform_(-initrange, initrange)\n",
        "    self.fc1.bias.data.zero_()\n",
        "    self.fc2.weight.data.uniform_(-initrange, initrange)\n",
        "    self.fc2.bias.data.zero_()\n",
        "    self.fc3.weight.data.uniform_(-initrange, initrange)\n",
        "    self.fc3.bias.data.zero_()\n",
        "\n",
        "  def forward(self, x):\n",
        "    x = F.relu(self.fc1(x))\n",
        "    x = F.relu(self.fc2(x))\n",
        "    x = self.fc3(x)\n",
        "    return x"
      ],
      "execution_count": 11,
      "outputs": []
    },
    {
      "cell_type": "code",
      "metadata": {
        "id": "nLkGnlqfvQpp",
        "colab_type": "code",
        "colab": {}
      },
      "source": [
        "model = TextSentiment(EMBED_DIM, NUM_CLASS).to(device)"
      ],
      "execution_count": 12,
      "outputs": []
    },
    {
      "cell_type": "code",
      "metadata": {
        "id": "yB0NIxhlxka5",
        "colab_type": "code",
        "colab": {}
      },
      "source": [
        "criterion = torch.nn.CrossEntropyLoss().to(device)\n",
        "optimizer = torch.optim.SGD(model.parameters(), lr=0.1)\n",
        "scheduler = torch.optim.lr_scheduler.StepLR(optimizer, 1, gamma=0.9)"
      ],
      "execution_count": 13,
      "outputs": []
    },
    {
      "cell_type": "code",
      "metadata": {
        "id": "kHvS00cVvaVU",
        "colab_type": "code",
        "colab": {}
      },
      "source": [
        "def train_func():\n",
        "\n",
        "  # Train the model\n",
        "  train_loss = 0\n",
        "  train_acc = 0\n",
        "  for i, (text, cls) in enumerate(train_loader):\n",
        "    optimizer.zero_grad()\n",
        "    text, cls = text.to(device), cls.to(device)\n",
        "    output = model(text)\n",
        "    loss = criterion(output, cls)\n",
        "    train_loss += loss.item()\n",
        "    loss.backward()\n",
        "    optimizer.step()\n",
        "    train_acc += (output.argmax(1) == cls).sum().item()\n",
        "\n",
        "  # Adjust the learning rate\n",
        "  scheduler.step()\n",
        "\n",
        "  return train_loss / TRAIN_SIZE, train_acc / TRAIN_SIZE"
      ],
      "execution_count": 14,
      "outputs": []
    },
    {
      "cell_type": "code",
      "metadata": {
        "id": "DDFVMgRqyl4Q",
        "colab_type": "code",
        "colab": {}
      },
      "source": [
        "def test(X, y):\n",
        "  loss = 0\n",
        "  acc = 0\n",
        "  data = DataLoader(TensorDataset(X, y), batch_size=BATCH_SIZE)\n",
        "  for text, cls in data:\n",
        "    text, cls = text.to(device), cls.to(device)\n",
        "    with torch.no_grad():\n",
        "      output = model(text)\n",
        "      loss = criterion(output, cls)\n",
        "      loss += loss.item()\n",
        "      acc += (output.argmax(1) == cls).sum().item()\n",
        "\n",
        "  return loss / X.shape[0], acc / X.shape[0]"
      ],
      "execution_count": 15,
      "outputs": []
    },
    {
      "cell_type": "code",
      "metadata": {
        "id": "B_rGEelGzuRO",
        "colab_type": "code",
        "colab": {
          "base_uri": "https://localhost:8080/",
          "height": 1000
        },
        "outputId": "841fdaef-ace2-4732-ed6e-4d445c219ced"
      },
      "source": [
        "import time\n",
        "\n",
        "N_EPOCHS = 50\n",
        "for epoch in range(N_EPOCHS):\n",
        "\n",
        "  start_time = time.time()\n",
        "  train_loss, train_acc = train_func()\n",
        "  dev_loss, dev_acc = test(X_dev, y_dev)\n",
        "\n",
        "  secs = int(time.time() - start_time)\n",
        "  mins = secs / 60\n",
        "  secs = secs % 60\n",
        "\n",
        "  print('Epoch: %d' %(epoch + 1), \" | time in %d minutes, %d seconds\" %(mins, secs))\n",
        "  print(f'\\tLoss: {train_loss:.4f}(train)\\t|\\tAcc: {train_acc * 100:.1f}%(train)')\n",
        "  print(f'\\tLoss: {dev_loss:.4f}(dev)\\t|\\tAcc: {dev_acc * 100:.1f}%(dev)')"
      ],
      "execution_count": 16,
      "outputs": [
        {
          "output_type": "stream",
          "text": [
            "Epoch: 1  | time in 0 minutes, 0 seconds\n",
            "\tLoss: 0.0065(train)\t|\tAcc: 62.9%(train)\n",
            "\tLoss: 0.0002(dev)\t|\tAcc: 70.4%(dev)\n",
            "Epoch: 2  | time in 0 minutes, 0 seconds\n",
            "\tLoss: 0.0060(train)\t|\tAcc: 67.2%(train)\n",
            "\tLoss: 0.0002(dev)\t|\tAcc: 67.5%(dev)\n",
            "Epoch: 3  | time in 0 minutes, 0 seconds\n",
            "\tLoss: 0.0058(train)\t|\tAcc: 69.0%(train)\n",
            "\tLoss: 0.0003(dev)\t|\tAcc: 58.8%(dev)\n",
            "Epoch: 4  | time in 0 minutes, 0 seconds\n",
            "\tLoss: 0.0056(train)\t|\tAcc: 71.2%(train)\n",
            "\tLoss: 0.0002(dev)\t|\tAcc: 60.7%(dev)\n",
            "Epoch: 5  | time in 0 minutes, 0 seconds\n",
            "\tLoss: 0.0053(train)\t|\tAcc: 72.9%(train)\n",
            "\tLoss: 0.0002(dev)\t|\tAcc: 67.1%(dev)\n",
            "Epoch: 6  | time in 0 minutes, 0 seconds\n",
            "\tLoss: 0.0052(train)\t|\tAcc: 73.7%(train)\n",
            "\tLoss: 0.0002(dev)\t|\tAcc: 59.8%(dev)\n",
            "Epoch: 7  | time in 0 minutes, 0 seconds\n",
            "\tLoss: 0.0051(train)\t|\tAcc: 74.9%(train)\n",
            "\tLoss: 0.0003(dev)\t|\tAcc: 60.8%(dev)\n",
            "Epoch: 8  | time in 0 minutes, 0 seconds\n",
            "\tLoss: 0.0048(train)\t|\tAcc: 76.6%(train)\n",
            "\tLoss: 0.0002(dev)\t|\tAcc: 82.4%(dev)\n",
            "Epoch: 9  | time in 0 minutes, 0 seconds\n",
            "\tLoss: 0.0048(train)\t|\tAcc: 76.4%(train)\n",
            "\tLoss: 0.0002(dev)\t|\tAcc: 81.2%(dev)\n",
            "Epoch: 10  | time in 0 minutes, 0 seconds\n",
            "\tLoss: 0.0046(train)\t|\tAcc: 78.6%(train)\n",
            "\tLoss: 0.0001(dev)\t|\tAcc: 80.3%(dev)\n",
            "Epoch: 11  | time in 0 minutes, 0 seconds\n",
            "\tLoss: 0.0044(train)\t|\tAcc: 80.2%(train)\n",
            "\tLoss: 0.0002(dev)\t|\tAcc: 72.9%(dev)\n",
            "Epoch: 12  | time in 0 minutes, 0 seconds\n",
            "\tLoss: 0.0044(train)\t|\tAcc: 79.7%(train)\n",
            "\tLoss: 0.0001(dev)\t|\tAcc: 82.2%(dev)\n",
            "Epoch: 13  | time in 0 minutes, 0 seconds\n",
            "\tLoss: 0.0042(train)\t|\tAcc: 81.1%(train)\n",
            "\tLoss: 0.0001(dev)\t|\tAcc: 82.9%(dev)\n",
            "Epoch: 14  | time in 0 minutes, 0 seconds\n",
            "\tLoss: 0.0041(train)\t|\tAcc: 81.5%(train)\n",
            "\tLoss: 0.0001(dev)\t|\tAcc: 82.9%(dev)\n",
            "Epoch: 15  | time in 0 minutes, 0 seconds\n",
            "\tLoss: 0.0041(train)\t|\tAcc: 81.8%(train)\n",
            "\tLoss: 0.0001(dev)\t|\tAcc: 83.2%(dev)\n",
            "Epoch: 16  | time in 0 minutes, 0 seconds\n",
            "\tLoss: 0.0040(train)\t|\tAcc: 82.4%(train)\n",
            "\tLoss: 0.0002(dev)\t|\tAcc: 81.9%(dev)\n",
            "Epoch: 17  | time in 0 minutes, 0 seconds\n",
            "\tLoss: 0.0040(train)\t|\tAcc: 82.5%(train)\n",
            "\tLoss: 0.0001(dev)\t|\tAcc: 83.3%(dev)\n",
            "Epoch: 18  | time in 0 minutes, 0 seconds\n",
            "\tLoss: 0.0039(train)\t|\tAcc: 82.9%(train)\n",
            "\tLoss: 0.0001(dev)\t|\tAcc: 82.8%(dev)\n",
            "Epoch: 19  | time in 0 minutes, 0 seconds\n",
            "\tLoss: 0.0039(train)\t|\tAcc: 83.2%(train)\n",
            "\tLoss: 0.0001(dev)\t|\tAcc: 81.9%(dev)\n",
            "Epoch: 20  | time in 0 minutes, 0 seconds\n",
            "\tLoss: 0.0039(train)\t|\tAcc: 83.0%(train)\n",
            "\tLoss: 0.0001(dev)\t|\tAcc: 83.5%(dev)\n",
            "Epoch: 21  | time in 0 minutes, 0 seconds\n",
            "\tLoss: 0.0039(train)\t|\tAcc: 83.3%(train)\n",
            "\tLoss: 0.0002(dev)\t|\tAcc: 82.3%(dev)\n",
            "Epoch: 22  | time in 0 minutes, 0 seconds\n",
            "\tLoss: 0.0038(train)\t|\tAcc: 83.4%(train)\n",
            "\tLoss: 0.0001(dev)\t|\tAcc: 83.6%(dev)\n",
            "Epoch: 23  | time in 0 minutes, 0 seconds\n",
            "\tLoss: 0.0038(train)\t|\tAcc: 83.5%(train)\n",
            "\tLoss: 0.0002(dev)\t|\tAcc: 83.2%(dev)\n",
            "Epoch: 24  | time in 0 minutes, 0 seconds\n",
            "\tLoss: 0.0038(train)\t|\tAcc: 83.6%(train)\n",
            "\tLoss: 0.0001(dev)\t|\tAcc: 84.2%(dev)\n",
            "Epoch: 25  | time in 0 minutes, 0 seconds\n",
            "\tLoss: 0.0038(train)\t|\tAcc: 83.6%(train)\n",
            "\tLoss: 0.0001(dev)\t|\tAcc: 84.3%(dev)\n",
            "Epoch: 26  | time in 0 minutes, 0 seconds\n",
            "\tLoss: 0.0038(train)\t|\tAcc: 83.6%(train)\n",
            "\tLoss: 0.0001(dev)\t|\tAcc: 84.2%(dev)\n",
            "Epoch: 27  | time in 0 minutes, 0 seconds\n",
            "\tLoss: 0.0038(train)\t|\tAcc: 83.7%(train)\n",
            "\tLoss: 0.0001(dev)\t|\tAcc: 84.4%(dev)\n",
            "Epoch: 28  | time in 0 minutes, 0 seconds\n",
            "\tLoss: 0.0038(train)\t|\tAcc: 83.9%(train)\n",
            "\tLoss: 0.0001(dev)\t|\tAcc: 84.5%(dev)\n",
            "Epoch: 29  | time in 0 minutes, 0 seconds\n",
            "\tLoss: 0.0038(train)\t|\tAcc: 83.9%(train)\n",
            "\tLoss: 0.0001(dev)\t|\tAcc: 83.9%(dev)\n",
            "Epoch: 30  | time in 0 minutes, 0 seconds\n",
            "\tLoss: 0.0038(train)\t|\tAcc: 83.8%(train)\n",
            "\tLoss: 0.0001(dev)\t|\tAcc: 84.3%(dev)\n",
            "Epoch: 31  | time in 0 minutes, 0 seconds\n",
            "\tLoss: 0.0037(train)\t|\tAcc: 83.9%(train)\n",
            "\tLoss: 0.0001(dev)\t|\tAcc: 83.9%(dev)\n",
            "Epoch: 32  | time in 0 minutes, 0 seconds\n",
            "\tLoss: 0.0037(train)\t|\tAcc: 83.9%(train)\n",
            "\tLoss: 0.0001(dev)\t|\tAcc: 84.2%(dev)\n",
            "Epoch: 33  | time in 0 minutes, 0 seconds\n",
            "\tLoss: 0.0037(train)\t|\tAcc: 83.9%(train)\n",
            "\tLoss: 0.0001(dev)\t|\tAcc: 84.3%(dev)\n",
            "Epoch: 34  | time in 0 minutes, 0 seconds\n",
            "\tLoss: 0.0037(train)\t|\tAcc: 84.0%(train)\n",
            "\tLoss: 0.0001(dev)\t|\tAcc: 84.4%(dev)\n",
            "Epoch: 35  | time in 0 minutes, 0 seconds\n",
            "\tLoss: 0.0037(train)\t|\tAcc: 84.0%(train)\n",
            "\tLoss: 0.0001(dev)\t|\tAcc: 84.4%(dev)\n",
            "Epoch: 36  | time in 0 minutes, 0 seconds\n",
            "\tLoss: 0.0037(train)\t|\tAcc: 83.9%(train)\n",
            "\tLoss: 0.0001(dev)\t|\tAcc: 84.4%(dev)\n",
            "Epoch: 37  | time in 0 minutes, 0 seconds\n",
            "\tLoss: 0.0037(train)\t|\tAcc: 84.1%(train)\n",
            "\tLoss: 0.0001(dev)\t|\tAcc: 84.4%(dev)\n",
            "Epoch: 38  | time in 0 minutes, 0 seconds\n",
            "\tLoss: 0.0037(train)\t|\tAcc: 84.0%(train)\n",
            "\tLoss: 0.0001(dev)\t|\tAcc: 84.4%(dev)\n",
            "Epoch: 39  | time in 0 minutes, 0 seconds\n",
            "\tLoss: 0.0037(train)\t|\tAcc: 83.9%(train)\n",
            "\tLoss: 0.0001(dev)\t|\tAcc: 84.5%(dev)\n",
            "Epoch: 40  | time in 0 minutes, 0 seconds\n",
            "\tLoss: 0.0037(train)\t|\tAcc: 84.0%(train)\n",
            "\tLoss: 0.0001(dev)\t|\tAcc: 84.5%(dev)\n",
            "Epoch: 41  | time in 0 minutes, 0 seconds\n",
            "\tLoss: 0.0037(train)\t|\tAcc: 84.0%(train)\n",
            "\tLoss: 0.0001(dev)\t|\tAcc: 84.5%(dev)\n",
            "Epoch: 42  | time in 0 minutes, 0 seconds\n",
            "\tLoss: 0.0037(train)\t|\tAcc: 84.0%(train)\n",
            "\tLoss: 0.0001(dev)\t|\tAcc: 84.4%(dev)\n",
            "Epoch: 43  | time in 0 minutes, 0 seconds\n",
            "\tLoss: 0.0037(train)\t|\tAcc: 84.0%(train)\n",
            "\tLoss: 0.0001(dev)\t|\tAcc: 84.6%(dev)\n",
            "Epoch: 44  | time in 0 minutes, 0 seconds\n",
            "\tLoss: 0.0037(train)\t|\tAcc: 84.0%(train)\n",
            "\tLoss: 0.0001(dev)\t|\tAcc: 84.6%(dev)\n",
            "Epoch: 45  | time in 0 minutes, 0 seconds\n",
            "\tLoss: 0.0037(train)\t|\tAcc: 84.1%(train)\n",
            "\tLoss: 0.0001(dev)\t|\tAcc: 84.4%(dev)\n",
            "Epoch: 46  | time in 0 minutes, 0 seconds\n",
            "\tLoss: 0.0037(train)\t|\tAcc: 84.1%(train)\n",
            "\tLoss: 0.0001(dev)\t|\tAcc: 84.6%(dev)\n",
            "Epoch: 47  | time in 0 minutes, 0 seconds\n",
            "\tLoss: 0.0037(train)\t|\tAcc: 84.0%(train)\n",
            "\tLoss: 0.0001(dev)\t|\tAcc: 84.5%(dev)\n",
            "Epoch: 48  | time in 0 minutes, 0 seconds\n",
            "\tLoss: 0.0037(train)\t|\tAcc: 84.0%(train)\n",
            "\tLoss: 0.0001(dev)\t|\tAcc: 84.6%(dev)\n",
            "Epoch: 49  | time in 0 minutes, 0 seconds\n",
            "\tLoss: 0.0037(train)\t|\tAcc: 84.1%(train)\n",
            "\tLoss: 0.0001(dev)\t|\tAcc: 84.4%(dev)\n",
            "Epoch: 50  | time in 0 minutes, 0 seconds\n",
            "\tLoss: 0.0037(train)\t|\tAcc: 84.0%(train)\n",
            "\tLoss: 0.0001(dev)\t|\tAcc: 84.5%(dev)\n"
          ],
          "name": "stdout"
        }
      ]
    },
    {
      "cell_type": "code",
      "metadata": {
        "id": "UbG7hxf70Ggf",
        "colab_type": "code",
        "colab": {
          "base_uri": "https://localhost:8080/",
          "height": 50
        },
        "outputId": "945c88f7-2ab8-471e-be17-366b8fe1a70d"
      },
      "source": [
        "print('Checking the results of test dataset...')\n",
        "test_loss, test_acc = test(X_test, y_test)\n",
        "print(f'\\tLoss: {test_loss:.4f}(test)\\t|\\tAcc: {test_acc * 100:.1f}%(test)')"
      ],
      "execution_count": 17,
      "outputs": [
        {
          "output_type": "stream",
          "text": [
            "Checking the results of test dataset...\n",
            "\tLoss: 0.0000(test)\t|\tAcc: 83.4%(test)\n"
          ],
          "name": "stdout"
        }
      ]
    },
    {
      "cell_type": "code",
      "metadata": {
        "id": "D77D3amr3vSK",
        "colab_type": "code",
        "colab": {}
      },
      "source": [
        ""
      ],
      "execution_count": 17,
      "outputs": []
    },
    {
      "cell_type": "markdown",
      "metadata": {
        "id": "uUzVkJ2v-tt_",
        "colab_type": "text"
      },
      "source": [
        "# 課題6\n",
        "* モデルやoptimizerやschedulerを変更して、dev setの分類性能をできるだけ向上させてみよう。\n",
        "* その後、自分で選択した設定を使って、最終的にtest setで評価しよう。"
      ]
    }
  ]
}