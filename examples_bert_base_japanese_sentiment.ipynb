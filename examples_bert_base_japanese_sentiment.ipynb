{
  "nbformat": 4,
  "nbformat_minor": 0,
  "metadata": {
    "colab": {
      "name": "examples_bert-base-japanese-sentiment.ipynb",
      "provenance": [],
      "authorship_tag": "ABX9TyOdnPAvN6KHxahhZER3fnVy",
      "include_colab_link": true
    },
    "kernelspec": {
      "name": "python3",
      "display_name": "Python 3"
    },
    "accelerator": "GPU",
    "widgets": {
      "application/vnd.jupyter.widget-state+json": {
        "c13049ee357d4d2ead0edb6dc496ab02": {
          "model_module": "@jupyter-widgets/controls",
          "model_name": "HBoxModel",
          "state": {
            "_view_name": "HBoxView",
            "_dom_classes": [],
            "_model_name": "HBoxModel",
            "_view_module": "@jupyter-widgets/controls",
            "_model_module_version": "1.5.0",
            "_view_count": null,
            "_view_module_version": "1.5.0",
            "box_style": "",
            "layout": "IPY_MODEL_e5181e2550214792850674929aaa85cb",
            "_model_module": "@jupyter-widgets/controls",
            "children": [
              "IPY_MODEL_140f171f0200409588a838e91d153ac8",
              "IPY_MODEL_f9bd8e3dee6445d0a2b26c2da6a4db9a"
            ]
          }
        },
        "e5181e2550214792850674929aaa85cb": {
          "model_module": "@jupyter-widgets/base",
          "model_name": "LayoutModel",
          "state": {
            "_view_name": "LayoutView",
            "grid_template_rows": null,
            "right": null,
            "justify_content": null,
            "_view_module": "@jupyter-widgets/base",
            "overflow": null,
            "_model_module_version": "1.2.0",
            "_view_count": null,
            "flex_flow": null,
            "width": null,
            "min_width": null,
            "border": null,
            "align_items": null,
            "bottom": null,
            "_model_module": "@jupyter-widgets/base",
            "top": null,
            "grid_column": null,
            "overflow_y": null,
            "overflow_x": null,
            "grid_auto_flow": null,
            "grid_area": null,
            "grid_template_columns": null,
            "flex": null,
            "_model_name": "LayoutModel",
            "justify_items": null,
            "grid_row": null,
            "max_height": null,
            "align_content": null,
            "visibility": null,
            "align_self": null,
            "height": null,
            "min_height": null,
            "padding": null,
            "grid_auto_rows": null,
            "grid_gap": null,
            "max_width": null,
            "order": null,
            "_view_module_version": "1.2.0",
            "grid_template_areas": null,
            "object_position": null,
            "object_fit": null,
            "grid_auto_columns": null,
            "margin": null,
            "display": null,
            "left": null
          }
        },
        "140f171f0200409588a838e91d153ac8": {
          "model_module": "@jupyter-widgets/controls",
          "model_name": "FloatProgressModel",
          "state": {
            "_view_name": "ProgressView",
            "style": "IPY_MODEL_a7264b331c1e4a6c9dcd5e0033256b13",
            "_dom_classes": [],
            "description": "Downloading: 100%",
            "_model_name": "FloatProgressModel",
            "bar_style": "success",
            "max": 442523795,
            "_view_module": "@jupyter-widgets/controls",
            "_model_module_version": "1.5.0",
            "value": 442523795,
            "_view_count": null,
            "_view_module_version": "1.5.0",
            "orientation": "horizontal",
            "min": 0,
            "description_tooltip": null,
            "_model_module": "@jupyter-widgets/controls",
            "layout": "IPY_MODEL_cc351af5acf446d68e4a899645793999"
          }
        },
        "f9bd8e3dee6445d0a2b26c2da6a4db9a": {
          "model_module": "@jupyter-widgets/controls",
          "model_name": "HTMLModel",
          "state": {
            "_view_name": "HTMLView",
            "style": "IPY_MODEL_01e3c8e07ee64358b48e604d6f5e73ea",
            "_dom_classes": [],
            "description": "",
            "_model_name": "HTMLModel",
            "placeholder": "​",
            "_view_module": "@jupyter-widgets/controls",
            "_model_module_version": "1.5.0",
            "value": " 443M/443M [00:12&lt;00:00, 34.1MB/s]",
            "_view_count": null,
            "_view_module_version": "1.5.0",
            "description_tooltip": null,
            "_model_module": "@jupyter-widgets/controls",
            "layout": "IPY_MODEL_af625e2da8d64194aef8b5a05a2041b9"
          }
        },
        "a7264b331c1e4a6c9dcd5e0033256b13": {
          "model_module": "@jupyter-widgets/controls",
          "model_name": "ProgressStyleModel",
          "state": {
            "_view_name": "StyleView",
            "_model_name": "ProgressStyleModel",
            "description_width": "initial",
            "_view_module": "@jupyter-widgets/base",
            "_model_module_version": "1.5.0",
            "_view_count": null,
            "_view_module_version": "1.2.0",
            "bar_color": null,
            "_model_module": "@jupyter-widgets/controls"
          }
        },
        "cc351af5acf446d68e4a899645793999": {
          "model_module": "@jupyter-widgets/base",
          "model_name": "LayoutModel",
          "state": {
            "_view_name": "LayoutView",
            "grid_template_rows": null,
            "right": null,
            "justify_content": null,
            "_view_module": "@jupyter-widgets/base",
            "overflow": null,
            "_model_module_version": "1.2.0",
            "_view_count": null,
            "flex_flow": null,
            "width": null,
            "min_width": null,
            "border": null,
            "align_items": null,
            "bottom": null,
            "_model_module": "@jupyter-widgets/base",
            "top": null,
            "grid_column": null,
            "overflow_y": null,
            "overflow_x": null,
            "grid_auto_flow": null,
            "grid_area": null,
            "grid_template_columns": null,
            "flex": null,
            "_model_name": "LayoutModel",
            "justify_items": null,
            "grid_row": null,
            "max_height": null,
            "align_content": null,
            "visibility": null,
            "align_self": null,
            "height": null,
            "min_height": null,
            "padding": null,
            "grid_auto_rows": null,
            "grid_gap": null,
            "max_width": null,
            "order": null,
            "_view_module_version": "1.2.0",
            "grid_template_areas": null,
            "object_position": null,
            "object_fit": null,
            "grid_auto_columns": null,
            "margin": null,
            "display": null,
            "left": null
          }
        },
        "01e3c8e07ee64358b48e604d6f5e73ea": {
          "model_module": "@jupyter-widgets/controls",
          "model_name": "DescriptionStyleModel",
          "state": {
            "_view_name": "StyleView",
            "_model_name": "DescriptionStyleModel",
            "description_width": "",
            "_view_module": "@jupyter-widgets/base",
            "_model_module_version": "1.5.0",
            "_view_count": null,
            "_view_module_version": "1.2.0",
            "_model_module": "@jupyter-widgets/controls"
          }
        },
        "af625e2da8d64194aef8b5a05a2041b9": {
          "model_module": "@jupyter-widgets/base",
          "model_name": "LayoutModel",
          "state": {
            "_view_name": "LayoutView",
            "grid_template_rows": null,
            "right": null,
            "justify_content": null,
            "_view_module": "@jupyter-widgets/base",
            "overflow": null,
            "_model_module_version": "1.2.0",
            "_view_count": null,
            "flex_flow": null,
            "width": null,
            "min_width": null,
            "border": null,
            "align_items": null,
            "bottom": null,
            "_model_module": "@jupyter-widgets/base",
            "top": null,
            "grid_column": null,
            "overflow_y": null,
            "overflow_x": null,
            "grid_auto_flow": null,
            "grid_area": null,
            "grid_template_columns": null,
            "flex": null,
            "_model_name": "LayoutModel",
            "justify_items": null,
            "grid_row": null,
            "max_height": null,
            "align_content": null,
            "visibility": null,
            "align_self": null,
            "height": null,
            "min_height": null,
            "padding": null,
            "grid_auto_rows": null,
            "grid_gap": null,
            "max_width": null,
            "order": null,
            "_view_module_version": "1.2.0",
            "grid_template_areas": null,
            "object_position": null,
            "object_fit": null,
            "grid_auto_columns": null,
            "margin": null,
            "display": null,
            "left": null
          }
        }
      }
    }
  },
  "cells": [
    {
      "cell_type": "markdown",
      "metadata": {
        "id": "view-in-github",
        "colab_type": "text"
      },
      "source": [
        "<a href=\"https://colab.research.google.com/github/tomonari-masada/course-nlp2020/blob/master/examples_bert_base_japanese_sentiment.ipynb\" target=\"_parent\"><img src=\"https://colab.research.google.com/assets/colab-badge.svg\" alt=\"Open In Colab\"/></a>"
      ]
    },
    {
      "cell_type": "markdown",
      "metadata": {
        "id": "XlinUaxSPEjx"
      },
      "source": [
        "### 必要なライブラリのインストール"
      ]
    },
    {
      "cell_type": "code",
      "metadata": {
        "id": "O9Bb48dGMknE",
        "outputId": "e40cec29-f910-46db-9be2-6d9f363f2e37",
        "colab": {
          "base_uri": "https://localhost:8080/",
          "height": 649
        }
      },
      "source": [
        "!pip install transformers"
      ],
      "execution_count": 2,
      "outputs": [
        {
          "output_type": "stream",
          "text": [
            "Collecting transformers\n",
            "\u001b[?25l  Downloading https://files.pythonhosted.org/packages/3a/fc/18e56e5b1093052bacf6750442410423f3d9785d14ce4f54ab2ac6b112a6/transformers-3.3.0-py3-none-any.whl (1.1MB)\n",
            "\u001b[K     |████████████████████████████████| 1.1MB 4.6MB/s \n",
            "\u001b[?25hRequirement already satisfied: packaging in /usr/local/lib/python3.6/dist-packages (from transformers) (20.4)\n",
            "Collecting tokenizers==0.8.1.rc2\n",
            "\u001b[?25l  Downloading https://files.pythonhosted.org/packages/80/83/8b9fccb9e48eeb575ee19179e2bdde0ee9a1904f97de5f02d19016b8804f/tokenizers-0.8.1rc2-cp36-cp36m-manylinux1_x86_64.whl (3.0MB)\n",
            "\u001b[K     |████████████████████████████████| 3.0MB 23.8MB/s \n",
            "\u001b[?25hRequirement already satisfied: regex!=2019.12.17 in /usr/local/lib/python3.6/dist-packages (from transformers) (2019.12.20)\n",
            "Collecting sentencepiece!=0.1.92\n",
            "\u001b[?25l  Downloading https://files.pythonhosted.org/packages/d4/a4/d0a884c4300004a78cca907a6ff9a5e9fe4f090f5d95ab341c53d28cbc58/sentencepiece-0.1.91-cp36-cp36m-manylinux1_x86_64.whl (1.1MB)\n",
            "\u001b[K     |████████████████████████████████| 1.1MB 53.0MB/s \n",
            "\u001b[?25hCollecting sacremoses\n",
            "\u001b[?25l  Downloading https://files.pythonhosted.org/packages/7d/34/09d19aff26edcc8eb2a01bed8e98f13a1537005d31e95233fd48216eed10/sacremoses-0.0.43.tar.gz (883kB)\n",
            "\u001b[K     |████████████████████████████████| 890kB 53.1MB/s \n",
            "\u001b[?25hRequirement already satisfied: filelock in /usr/local/lib/python3.6/dist-packages (from transformers) (3.0.12)\n",
            "Requirement already satisfied: dataclasses; python_version < \"3.7\" in /usr/local/lib/python3.6/dist-packages (from transformers) (0.7)\n",
            "Requirement already satisfied: numpy in /usr/local/lib/python3.6/dist-packages (from transformers) (1.18.5)\n",
            "Requirement already satisfied: tqdm>=4.27 in /usr/local/lib/python3.6/dist-packages (from transformers) (4.41.1)\n",
            "Requirement already satisfied: requests in /usr/local/lib/python3.6/dist-packages (from transformers) (2.23.0)\n",
            "Requirement already satisfied: pyparsing>=2.0.2 in /usr/local/lib/python3.6/dist-packages (from packaging->transformers) (2.4.7)\n",
            "Requirement already satisfied: six in /usr/local/lib/python3.6/dist-packages (from packaging->transformers) (1.15.0)\n",
            "Requirement already satisfied: click in /usr/local/lib/python3.6/dist-packages (from sacremoses->transformers) (7.1.2)\n",
            "Requirement already satisfied: joblib in /usr/local/lib/python3.6/dist-packages (from sacremoses->transformers) (0.16.0)\n",
            "Requirement already satisfied: urllib3!=1.25.0,!=1.25.1,<1.26,>=1.21.1 in /usr/local/lib/python3.6/dist-packages (from requests->transformers) (1.24.3)\n",
            "Requirement already satisfied: idna<3,>=2.5 in /usr/local/lib/python3.6/dist-packages (from requests->transformers) (2.10)\n",
            "Requirement already satisfied: chardet<4,>=3.0.2 in /usr/local/lib/python3.6/dist-packages (from requests->transformers) (3.0.4)\n",
            "Requirement already satisfied: certifi>=2017.4.17 in /usr/local/lib/python3.6/dist-packages (from requests->transformers) (2020.6.20)\n",
            "Building wheels for collected packages: sacremoses\n",
            "  Building wheel for sacremoses (setup.py) ... \u001b[?25l\u001b[?25hdone\n",
            "  Created wheel for sacremoses: filename=sacremoses-0.0.43-cp36-none-any.whl size=893257 sha256=c41112f1bd037a4186cc42e4e387be3b6d08110a53225224ef763707858b13be\n",
            "  Stored in directory: /root/.cache/pip/wheels/29/3c/fd/7ce5c3f0666dab31a50123635e6fb5e19ceb42ce38d4e58f45\n",
            "Successfully built sacremoses\n",
            "Installing collected packages: tokenizers, sentencepiece, sacremoses, transformers\n",
            "Successfully installed sacremoses-0.0.43 sentencepiece-0.1.91 tokenizers-0.8.1rc2 transformers-3.3.0\n"
          ],
          "name": "stdout"
        }
      ]
    },
    {
      "cell_type": "code",
      "metadata": {
        "id": "FhW5ir-sNNxs",
        "outputId": "f02af3f3-9eef-42cc-a135-beb69db7610b",
        "colab": {
          "base_uri": "https://localhost:8080/",
          "height": 505
        }
      },
      "source": [
        "!pip install fugashi[unidic]\n",
        "!python -m unidic download"
      ],
      "execution_count": 6,
      "outputs": [
        {
          "output_type": "stream",
          "text": [
            "Collecting fugashi[unidic]\n",
            "\u001b[?25l  Downloading https://files.pythonhosted.org/packages/32/0c/d0bf73e1a90aeb3e696c7741a812d4b86adc31a8a9783cc92c535ae29016/fugashi-1.0.4-cp36-cp36m-manylinux1_x86_64.whl (476kB)\n",
            "\r\u001b[K     |▊                               | 10kB 23.7MB/s eta 0:00:01\r\u001b[K     |█▍                              | 20kB 3.2MB/s eta 0:00:01\r\u001b[K     |██                              | 30kB 4.1MB/s eta 0:00:01\r\u001b[K     |██▊                             | 40kB 4.4MB/s eta 0:00:01\r\u001b[K     |███▍                            | 51kB 3.7MB/s eta 0:00:01\r\u001b[K     |████▏                           | 61kB 4.1MB/s eta 0:00:01\r\u001b[K     |████▉                           | 71kB 4.5MB/s eta 0:00:01\r\u001b[K     |█████▌                          | 81kB 4.9MB/s eta 0:00:01\r\u001b[K     |██████▏                         | 92kB 5.2MB/s eta 0:00:01\r\u001b[K     |██████▉                         | 102kB 5.0MB/s eta 0:00:01\r\u001b[K     |███████▋                        | 112kB 5.0MB/s eta 0:00:01\r\u001b[K     |████████▎                       | 122kB 5.0MB/s eta 0:00:01\r\u001b[K     |█████████                       | 133kB 5.0MB/s eta 0:00:01\r\u001b[K     |█████████▋                      | 143kB 5.0MB/s eta 0:00:01\r\u001b[K     |██████████▎                     | 153kB 5.0MB/s eta 0:00:01\r\u001b[K     |███████████                     | 163kB 5.0MB/s eta 0:00:01\r\u001b[K     |███████████▊                    | 174kB 5.0MB/s eta 0:00:01\r\u001b[K     |████████████▍                   | 184kB 5.0MB/s eta 0:00:01\r\u001b[K     |█████████████                   | 194kB 5.0MB/s eta 0:00:01\r\u001b[K     |█████████████▊                  | 204kB 5.0MB/s eta 0:00:01\r\u001b[K     |██████████████▍                 | 215kB 5.0MB/s eta 0:00:01\r\u001b[K     |███████████████▏                | 225kB 5.0MB/s eta 0:00:01\r\u001b[K     |███████████████▉                | 235kB 5.0MB/s eta 0:00:01\r\u001b[K     |████████████████▌               | 245kB 5.0MB/s eta 0:00:01\r\u001b[K     |█████████████████▏              | 256kB 5.0MB/s eta 0:00:01\r\u001b[K     |█████████████████▉              | 266kB 5.0MB/s eta 0:00:01\r\u001b[K     |██████████████████▋             | 276kB 5.0MB/s eta 0:00:01\r\u001b[K     |███████████████████▎            | 286kB 5.0MB/s eta 0:00:01\r\u001b[K     |████████████████████            | 296kB 5.0MB/s eta 0:00:01\r\u001b[K     |████████████████████▋           | 307kB 5.0MB/s eta 0:00:01\r\u001b[K     |█████████████████████▎          | 317kB 5.0MB/s eta 0:00:01\r\u001b[K     |██████████████████████          | 327kB 5.0MB/s eta 0:00:01\r\u001b[K     |██████████████████████▊         | 337kB 5.0MB/s eta 0:00:01\r\u001b[K     |███████████████████████▍        | 348kB 5.0MB/s eta 0:00:01\r\u001b[K     |████████████████████████        | 358kB 5.0MB/s eta 0:00:01\r\u001b[K     |████████████████████████▊       | 368kB 5.0MB/s eta 0:00:01\r\u001b[K     |█████████████████████████▍      | 378kB 5.0MB/s eta 0:00:01\r\u001b[K     |██████████████████████████▏     | 389kB 5.0MB/s eta 0:00:01\r\u001b[K     |██████████████████████████▉     | 399kB 5.0MB/s eta 0:00:01\r\u001b[K     |███████████████████████████▌    | 409kB 5.0MB/s eta 0:00:01\r\u001b[K     |████████████████████████████▏   | 419kB 5.0MB/s eta 0:00:01\r\u001b[K     |████████████████████████████▉   | 430kB 5.0MB/s eta 0:00:01\r\u001b[K     |█████████████████████████████▋  | 440kB 5.0MB/s eta 0:00:01\r\u001b[K     |██████████████████████████████▎ | 450kB 5.0MB/s eta 0:00:01\r\u001b[K     |███████████████████████████████ | 460kB 5.0MB/s eta 0:00:01\r\u001b[K     |███████████████████████████████▋| 471kB 5.0MB/s eta 0:00:01\r\u001b[K     |████████████████████████████████| 481kB 5.0MB/s \n",
            "\u001b[?25hCollecting unidic; extra == \"unidic\"\n",
            "  Downloading https://files.pythonhosted.org/packages/73/f0/f01bbde6d1ced17a53b6021ee3bdf5779c49ba7d13cc39e1c03cecbe262a/unidic-1.0.2.tar.gz\n",
            "Requirement already satisfied: requests<3.0.0,>=2.22.0 in /usr/local/lib/python3.6/dist-packages (from unidic; extra == \"unidic\"->fugashi[unidic]) (2.23.0)\n",
            "Requirement already satisfied: tqdm<5.0.0,>=4.41.1 in /usr/local/lib/python3.6/dist-packages (from unidic; extra == \"unidic\"->fugashi[unidic]) (4.41.1)\n",
            "Requirement already satisfied: wasabi<1.0.0,>=0.6.0 in /usr/local/lib/python3.6/dist-packages (from unidic; extra == \"unidic\"->fugashi[unidic]) (0.8.0)\n",
            "Requirement already satisfied: plac<2.0.0,>=1.1.3 in /usr/local/lib/python3.6/dist-packages (from unidic; extra == \"unidic\"->fugashi[unidic]) (1.1.3)\n",
            "Requirement already satisfied: certifi>=2017.4.17 in /usr/local/lib/python3.6/dist-packages (from requests<3.0.0,>=2.22.0->unidic; extra == \"unidic\"->fugashi[unidic]) (2020.6.20)\n",
            "Requirement already satisfied: urllib3!=1.25.0,!=1.25.1,<1.26,>=1.21.1 in /usr/local/lib/python3.6/dist-packages (from requests<3.0.0,>=2.22.0->unidic; extra == \"unidic\"->fugashi[unidic]) (1.24.3)\n",
            "Requirement already satisfied: idna<3,>=2.5 in /usr/local/lib/python3.6/dist-packages (from requests<3.0.0,>=2.22.0->unidic; extra == \"unidic\"->fugashi[unidic]) (2.10)\n",
            "Requirement already satisfied: chardet<4,>=3.0.2 in /usr/local/lib/python3.6/dist-packages (from requests<3.0.0,>=2.22.0->unidic; extra == \"unidic\"->fugashi[unidic]) (3.0.4)\n",
            "Building wheels for collected packages: unidic\n",
            "  Building wheel for unidic (setup.py) ... \u001b[?25l\u001b[?25hdone\n",
            "  Created wheel for unidic: filename=unidic-1.0.2-cp36-none-any.whl size=5412 sha256=1610b94cd00a329e6e0c13ee7594028db8f9fe609152efa0c08e7110c5e34d3d\n",
            "  Stored in directory: /root/.cache/pip/wheels/15/e2/dc/95a54a1aade2161dbb58adcf64ef80948e7286628e8cbca9b5\n",
            "Successfully built unidic\n",
            "Installing collected packages: unidic, fugashi\n",
            "Successfully installed fugashi-1.0.4 unidic-1.0.2\n",
            "download url: https://github.com/polm/unidic-py/releases/download/v1.0.2/unidic.zip\n",
            "Dictionary version: 2.3.0\n",
            "Downloading UniDic v2.3.0...\n",
            "unidic.zip: 100% 608M/608M [00:14<00:00, 43.2MB/s]\n",
            "Finished download.\n",
            "Downloaded UniDic v2.3.0 to /usr/local/lib/python3.6/dist-packages/unidic/dicdir\n"
          ],
          "name": "stdout"
        }
      ]
    },
    {
      "cell_type": "code",
      "metadata": {
        "id": "41kQFdHQNfZ0",
        "outputId": "f57de04d-ccfc-4c54-b671-2b5c9c13c1c0",
        "colab": {
          "base_uri": "https://localhost:8080/",
          "height": 217
        }
      },
      "source": [
        "!pip install ipadic"
      ],
      "execution_count": 9,
      "outputs": [
        {
          "output_type": "stream",
          "text": [
            "Collecting ipadic\n",
            "\u001b[?25l  Downloading https://files.pythonhosted.org/packages/e7/4e/c459f94d62a0bef89f866857bc51b9105aff236b83928618315b41a26b7b/ipadic-1.0.0.tar.gz (13.4MB)\n",
            "\u001b[K     |████████████████████████████████| 13.4MB 244kB/s \n",
            "\u001b[?25hBuilding wheels for collected packages: ipadic\n",
            "  Building wheel for ipadic (setup.py) ... \u001b[?25l\u001b[?25hdone\n",
            "  Created wheel for ipadic: filename=ipadic-1.0.0-cp36-none-any.whl size=13556725 sha256=6d9cb5a74d5f44d4fcfaf618db0831d0c563be9d815f6e119863a035ff5c688e\n",
            "  Stored in directory: /root/.cache/pip/wheels/ff/00/d1/0c094a0ce58a77199a0c5801f0ecf510c80f0ecbec27f07d2c\n",
            "Successfully built ipadic\n",
            "Installing collected packages: ipadic\n",
            "Successfully installed ipadic-1.0.0\n"
          ],
          "name": "stdout"
        }
      ]
    },
    {
      "cell_type": "markdown",
      "metadata": {
        "id": "Nq59ObA2PJKe"
      },
      "source": [
        "### トークナイザとモデルの準備"
      ]
    },
    {
      "cell_type": "code",
      "metadata": {
        "id": "X5ZhYuCRMcDo"
      },
      "source": [
        "from transformers import AutoTokenizer, AutoModelForSequenceClassification"
      ],
      "execution_count": 10,
      "outputs": []
    },
    {
      "cell_type": "code",
      "metadata": {
        "id": "ZeHFUqCdMhbg"
      },
      "source": [
        "tokenizer = AutoTokenizer.from_pretrained(\"daigo/bert-base-japanese-sentiment\")"
      ],
      "execution_count": 11,
      "outputs": []
    },
    {
      "cell_type": "code",
      "metadata": {
        "id": "HbnUbfJIPTN4",
        "outputId": "43a055f3-d664-4093-8c43-f89390935501",
        "colab": {
          "base_uri": "https://localhost:8080/",
          "height": 55
        }
      },
      "source": [
        "# 少し使ってみる。\n",
        "tokenizer('企業向けソフトウエア大手のオラクルは、シリコンバレー屈指の収益性を誇りつつも目立たない企業の一つだ。')"
      ],
      "execution_count": 23,
      "outputs": [
        {
          "output_type": "execute_result",
          "data": {
            "text/plain": [
              "{'input_ids': [2, 1189, 1100, 1604, 28549, 5765, 5351, 5, 21578, 6737, 9, 6, 19675, 11165, 14327, 5, 9026, 245, 11, 12852, 2166, 28, 22122, 80, 1189, 5, 993, 75, 8, 3], 'token_type_ids': [0, 0, 0, 0, 0, 0, 0, 0, 0, 0, 0, 0, 0, 0, 0, 0, 0, 0, 0, 0, 0, 0, 0, 0, 0, 0, 0, 0, 0, 0], 'attention_mask': [1, 1, 1, 1, 1, 1, 1, 1, 1, 1, 1, 1, 1, 1, 1, 1, 1, 1, 1, 1, 1, 1, 1, 1, 1, 1, 1, 1, 1, 1]}"
            ]
          },
          "metadata": {
            "tags": []
          },
          "execution_count": 23
        }
      ]
    },
    {
      "cell_type": "code",
      "metadata": {
        "id": "2yUZN349P1Yr",
        "outputId": "c1d9976c-640c-4257-a217-02159fd9f631",
        "colab": {
          "base_uri": "https://localhost:8080/",
          "height": 35
        }
      },
      "source": [
        "# トークンのidをデコードしてみる。\n",
        "tokenizer.decode(['1604'])"
      ],
      "execution_count": 27,
      "outputs": [
        {
          "output_type": "execute_result",
          "data": {
            "application/vnd.google.colaboratory.intrinsic+json": {
              "type": "string"
            },
            "text/plain": [
              "'ソフト'"
            ]
          },
          "metadata": {
            "tags": []
          },
          "execution_count": 27
        }
      ]
    },
    {
      "cell_type": "code",
      "metadata": {
        "id": "vfDvRAWlM_qk",
        "outputId": "8462f6b0-3ce7-474f-a726-7ae2d0136a5d",
        "colab": {
          "base_uri": "https://localhost:8080/",
          "height": 67,
          "referenced_widgets": [
            "c13049ee357d4d2ead0edb6dc496ab02",
            "e5181e2550214792850674929aaa85cb",
            "140f171f0200409588a838e91d153ac8",
            "f9bd8e3dee6445d0a2b26c2da6a4db9a",
            "a7264b331c1e4a6c9dcd5e0033256b13",
            "cc351af5acf446d68e4a899645793999",
            "01e3c8e07ee64358b48e604d6f5e73ea",
            "af625e2da8d64194aef8b5a05a2041b9"
          ]
        }
      },
      "source": [
        "model = AutoModelForSequenceClassification.from_pretrained(\"daigo/bert-base-japanese-sentiment\")"
      ],
      "execution_count": 12,
      "outputs": [
        {
          "output_type": "display_data",
          "data": {
            "application/vnd.jupyter.widget-view+json": {
              "model_id": "c13049ee357d4d2ead0edb6dc496ab02",
              "version_minor": 0,
              "version_major": 2
            },
            "text/plain": [
              "HBox(children=(FloatProgress(value=0.0, description='Downloading', max=442523795.0, style=ProgressStyle(descri…"
            ]
          },
          "metadata": {
            "tags": []
          }
        },
        {
          "output_type": "stream",
          "text": [
            "\n"
          ],
          "name": "stdout"
        }
      ]
    },
    {
      "cell_type": "markdown",
      "metadata": {
        "id": "ppNprlO1PMAz"
      },
      "source": [
        "### pipelineを作成"
      ]
    },
    {
      "cell_type": "code",
      "metadata": {
        "id": "MypPBIOfNllZ"
      },
      "source": [
        "from transformers import pipeline\n",
        "\n",
        "my_pipeline = pipeline(\"sentiment-analysis\", model=\"daigo/bert-base-japanese-sentiment\", tokenizer=\"daigo/bert-base-japanese-sentiment\")"
      ],
      "execution_count": 16,
      "outputs": []
    },
    {
      "cell_type": "markdown",
      "metadata": {
        "id": "DmGJaK_eQUkb"
      },
      "source": [
        "### 感情分析の実行"
      ]
    },
    {
      "cell_type": "code",
      "metadata": {
        "id": "KkYsBplTNtxa",
        "outputId": "7fdc48b8-3a7a-48b3-8ed3-6548e1d88e71",
        "colab": {
          "base_uri": "https://localhost:8080/",
          "height": 35
        }
      },
      "source": [
        "my_pipeline('私は幸せである。')"
      ],
      "execution_count": 17,
      "outputs": [
        {
          "output_type": "execute_result",
          "data": {
            "text/plain": [
              "[{'label': 'ポジティブ', 'score': 0.9903476238250732}]"
            ]
          },
          "metadata": {
            "tags": []
          },
          "execution_count": 17
        }
      ]
    },
    {
      "cell_type": "code",
      "metadata": {
        "id": "GK2hqM7aOHpT",
        "outputId": "5a743693-48da-4e2e-8ec2-8da1a102d51d",
        "colab": {
          "base_uri": "https://localhost:8080/",
          "height": 35
        }
      },
      "source": [
        "my_pipeline('何ということだ！')"
      ],
      "execution_count": 18,
      "outputs": [
        {
          "output_type": "execute_result",
          "data": {
            "text/plain": [
              "[{'label': 'ネガティブ', 'score': 0.5044153928756714}]"
            ]
          },
          "metadata": {
            "tags": []
          },
          "execution_count": 18
        }
      ]
    },
    {
      "cell_type": "code",
      "metadata": {
        "id": "nLClxBzlOLcE",
        "outputId": "311565bd-263b-4968-b46b-0e5f68df2b2e",
        "colab": {
          "base_uri": "https://localhost:8080/",
          "height": 35
        }
      },
      "source": [
        "my_pipeline('悪寒がする。')"
      ],
      "execution_count": 19,
      "outputs": [
        {
          "output_type": "execute_result",
          "data": {
            "text/plain": [
              "[{'label': 'ポジティブ', 'score': 0.8047237992286682}]"
            ]
          },
          "metadata": {
            "tags": []
          },
          "execution_count": 19
        }
      ]
    },
    {
      "cell_type": "markdown",
      "metadata": {
        "id": "_g3Ot6cyO-Hz"
      },
      "source": [
        "### Microsoft 365関係のツイートを感情分析"
      ]
    },
    {
      "cell_type": "code",
      "metadata": {
        "id": "MJkPfEvvOoyC",
        "outputId": "e77fbca2-4fc4-4216-d979-f88e9517a455",
        "colab": {
          "base_uri": "https://localhost:8080/",
          "height": 35
        }
      },
      "source": [
        "my_pipeline('どうやら復旧とのこと。しかし、朝からトラブル発生は参った。')"
      ],
      "execution_count": 21,
      "outputs": [
        {
          "output_type": "execute_result",
          "data": {
            "text/plain": [
              "[{'label': 'ポジティブ', 'score': 0.6190536618232727}]"
            ]
          },
          "metadata": {
            "tags": []
          },
          "execution_count": 21
        }
      ]
    },
    {
      "cell_type": "code",
      "metadata": {
        "id": "_sA3BXXeOw4H",
        "outputId": "bfb6b6ad-0a28-483b-84a6-8213694d04fb",
        "colab": {
          "base_uri": "https://localhost:8080/",
          "height": 35
        }
      },
      "source": [
        "my_pipeline('これか、今朝のトラブル！全く仕事にならない。')"
      ],
      "execution_count": 22,
      "outputs": [
        {
          "output_type": "execute_result",
          "data": {
            "text/plain": [
              "[{'label': 'ネガティブ', 'score': 0.9062759280204773}]"
            ]
          },
          "metadata": {
            "tags": []
          },
          "execution_count": 22
        }
      ]
    },
    {
      "cell_type": "code",
      "metadata": {
        "id": "Kkm8L1b6O5NH",
        "outputId": "450eabcb-ba08-4602-cda8-aa1589a12349",
        "colab": {
          "base_uri": "https://localhost:8080/",
          "height": 35
        }
      },
      "source": [
        "my_pipeline('microsoft365解約しよっと。')"
      ],
      "execution_count": 28,
      "outputs": [
        {
          "output_type": "execute_result",
          "data": {
            "text/plain": [
              "[{'label': 'ポジティブ', 'score': 0.950895369052887}]"
            ]
          },
          "metadata": {
            "tags": []
          },
          "execution_count": 28
        }
      ]
    },
    {
      "cell_type": "code",
      "metadata": {
        "id": "jcPbmTFzQehZ",
        "outputId": "896ec0da-363d-4412-bee1-4347305f67c8",
        "colab": {
          "base_uri": "https://localhost:8080/",
          "height": 35
        }
      },
      "source": [
        "my_pipeline('「Microsoft 365」で障害発生 「トラフィックを再ルーティングし、原因究明中」')"
      ],
      "execution_count": 29,
      "outputs": [
        {
          "output_type": "execute_result",
          "data": {
            "text/plain": [
              "[{'label': 'ネガティブ', 'score': 0.5501839518547058}]"
            ]
          },
          "metadata": {
            "tags": []
          },
          "execution_count": 29
        }
      ]
    },
    {
      "cell_type": "code",
      "metadata": {
        "id": "p-eFwQzcQj4r",
        "outputId": "a2efd948-65f4-438d-aff6-c865aba7cf6d",
        "colab": {
          "base_uri": "https://localhost:8080/",
          "height": 35
        }
      },
      "source": [
        "my_pipeline('Microsoft 365 そのものの障害だったか。結構影響を食らった。')"
      ],
      "execution_count": 30,
      "outputs": [
        {
          "output_type": "execute_result",
          "data": {
            "text/plain": [
              "[{'label': 'ネガティブ', 'score': 0.8567731380462646}]"
            ]
          },
          "metadata": {
            "tags": []
          },
          "execution_count": 30
        }
      ]
    },
    {
      "cell_type": "code",
      "metadata": {
        "id": "Wb0VkklJQpHC",
        "outputId": "062408c1-4621-49e9-bdb8-c603266ea02c",
        "colab": {
          "base_uri": "https://localhost:8080/",
          "height": 35
        }
      },
      "source": [
        "my_pipeline('「Microsoft 365」で、日本時間の9月29日午前6時半ごろからアクセスしにくい問題が発生した。')"
      ],
      "execution_count": 31,
      "outputs": [
        {
          "output_type": "execute_result",
          "data": {
            "text/plain": [
              "[{'label': 'ネガティブ', 'score': 0.7188387513160706}]"
            ]
          },
          "metadata": {
            "tags": []
          },
          "execution_count": 31
        }
      ]
    },
    {
      "cell_type": "code",
      "metadata": {
        "id": "xAImEQHcQxIF",
        "outputId": "72b7f896-2c1d-4184-94c2-c666f3a3ea0b",
        "colab": {
          "base_uri": "https://localhost:8080/",
          "height": 35
        }
      },
      "source": [
        "my_pipeline('最近、クラウドの障害が続くよな・・・')"
      ],
      "execution_count": 32,
      "outputs": [
        {
          "output_type": "execute_result",
          "data": {
            "text/plain": [
              "[{'label': 'ネガティブ', 'score': 0.6611388921737671}]"
            ]
          },
          "metadata": {
            "tags": []
          },
          "execution_count": 32
        }
      ]
    },
    {
      "cell_type": "code",
      "metadata": {
        "id": "wirim9WgQ5B4"
      },
      "source": [
        ""
      ],
      "execution_count": null,
      "outputs": []
    }
  ]
}