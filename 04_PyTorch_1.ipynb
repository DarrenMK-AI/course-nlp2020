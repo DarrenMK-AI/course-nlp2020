{
  "nbformat": 4,
  "nbformat_minor": 0,
  "metadata": {
    "colab": {
      "name": "04_PyTorch_1.ipynb",
      "provenance": [],
      "collapsed_sections": [],
      "authorship_tag": "ABX9TyMw8dLtG55t9UMTdbL/8Mu4",
      "include_colab_link": true
    },
    "kernelspec": {
      "name": "python3",
      "display_name": "Python 3"
    }
  },
  "cells": [
    {
      "cell_type": "markdown",
      "metadata": {
        "id": "view-in-github",
        "colab_type": "text"
      },
      "source": [
        "<a href=\"https://colab.research.google.com/github/tomonari-masada/course-nlp2020/blob/master/04_PyTorch_1.ipynb\" target=\"_parent\"><img src=\"https://colab.research.google.com/assets/colab-badge.svg\" alt=\"Open In Colab\"/></a>"
      ]
    },
    {
      "cell_type": "markdown",
      "metadata": {
        "id": "jEY4wJjS58Uw",
        "colab_type": "text"
      },
      "source": [
        "# 04 PyTorch入門（１）\n",
        "参考資料: 《20天吃掉那只Pytorch》 https://github.com/lyhue1991/eat_pytorch_in_20_days"
      ]
    },
    {
      "cell_type": "markdown",
      "metadata": {
        "id": "Nb3T_6gD6Anx",
        "colab_type": "text"
      },
      "source": [
        "## 04-01 テンソル\n",
        "* NumPyのndarrayみたいなもの。\n",
        "* ただし、微分ができる点が大きな違い。\n",
        "* GPUに持っていける。"
      ]
    },
    {
      "cell_type": "code",
      "metadata": {
        "id": "HnNFPrUe53sF",
        "colab_type": "code",
        "colab": {}
      },
      "source": [
        "import numpy as np\n",
        "import torch"
      ],
      "execution_count": 1,
      "outputs": []
    },
    {
      "cell_type": "markdown",
      "metadata": {
        "id": "q_UZIAV06aqr",
        "colab_type": "text"
      },
      "source": [
        "### PyTorchのテンソルのデータ型"
      ]
    },
    {
      "cell_type": "code",
      "metadata": {
        "id": "JPHJ9pGa6Ra6",
        "colab_type": "code",
        "colab": {
          "base_uri": "https://localhost:8080/",
          "height": 67
        },
        "outputId": "2c7fd3a0-8bd3-4e23-c066-218d6e67b34f"
      },
      "source": [
        "i = torch.tensor(1)\n",
        "print(i, i.dtype)\n",
        "x = torch.tensor(2.0)\n",
        "print(x, x.dtype)\n",
        "b = torch.tensor(True)\n",
        "print(b, b.dtype)"
      ],
      "execution_count": 2,
      "outputs": [
        {
          "output_type": "stream",
          "text": [
            "tensor(1) torch.int64\n",
            "tensor(2.) torch.float32\n",
            "tensor(True) torch.bool\n"
          ],
          "name": "stdout"
        }
      ]
    },
    {
      "cell_type": "markdown",
      "metadata": {
        "id": "mDrafV5e74Ca",
        "colab_type": "text"
      },
      "source": [
        "### 特定の型のテンソルとして初期化(1)"
      ]
    },
    {
      "cell_type": "code",
      "metadata": {
        "id": "XXFfYPSG6ZFO",
        "colab_type": "code",
        "colab": {
          "base_uri": "https://localhost:8080/",
          "height": 67
        },
        "outputId": "bbf71704-3f00-409d-f960-809d6e334af9"
      },
      "source": [
        "# double型は特に理由がない限りは使わないほうがいいかもしれない。\n",
        "i = torch.tensor(1, dtype=torch.int32)\n",
        "print(i, i.dtype)\n",
        "x = torch.tensor(2.0, dtype=torch.float)\n",
        "print(x, x.dtype)\n",
        "z = torch.tensor(2.0, dtype=torch.double)\n",
        "print(z, z.dtype)"
      ],
      "execution_count": 3,
      "outputs": [
        {
          "output_type": "stream",
          "text": [
            "tensor(1, dtype=torch.int32) torch.int32\n",
            "tensor(2.) torch.float32\n",
            "tensor(2., dtype=torch.float64) torch.float64\n"
          ],
          "name": "stdout"
        }
      ]
    },
    {
      "cell_type": "markdown",
      "metadata": {
        "id": "vQrL43C27wrG",
        "colab_type": "text"
      },
      "source": [
        "### 特定の型のテンソルとして初期化(2)"
      ]
    },
    {
      "cell_type": "code",
      "metadata": {
        "id": "udgaTsg66syq",
        "colab_type": "code",
        "colab": {
          "base_uri": "https://localhost:8080/",
          "height": 67
        },
        "outputId": "cb4372f7-e4f7-45bc-d0e6-8aedc575d29b"
      },
      "source": [
        "i = torch.IntTensor([1,2,3])\n",
        "print(i, i.dtype)\n",
        "x = torch.FloatTensor(np.array([2.0,-4.0]))\n",
        "print(x, x.dtype)\n",
        "b = torch.BoolTensor(np.array([1,0,2,0]))\n",
        "print(b, b.dtype)"
      ],
      "execution_count": 4,
      "outputs": [
        {
          "output_type": "stream",
          "text": [
            "tensor([1, 2, 3], dtype=torch.int32) torch.int32\n",
            "tensor([ 2., -4.]) torch.float32\n",
            "tensor([ True, False,  True, False]) torch.bool\n"
          ],
          "name": "stdout"
        }
      ]
    },
    {
      "cell_type": "markdown",
      "metadata": {
        "id": "vxW9yw9X7jZZ",
        "colab_type": "text"
      },
      "source": [
        "### 型の変換"
      ]
    },
    {
      "cell_type": "code",
      "metadata": {
        "id": "4fKa8r5g7C59",
        "colab_type": "code",
        "colab": {
          "base_uri": "https://localhost:8080/",
          "height": 84
        },
        "outputId": "c5d1ea26-1ca2-4ffb-f82d-37bd02fae78e"
      },
      "source": [
        "i = torch.tensor(1)\n",
        "print(i, i.dtype)\n",
        "x = i.float()\n",
        "print(x, x.dtype)\n",
        "y = i.type(torch.float)\n",
        "print(y, y.dtype)\n",
        "z = i.type_as(x)\n",
        "print(z, z.dtype)"
      ],
      "execution_count": 5,
      "outputs": [
        {
          "output_type": "stream",
          "text": [
            "tensor(1) torch.int64\n",
            "tensor(1.) torch.float32\n",
            "tensor(1.) torch.float32\n",
            "tensor(1.) torch.float32\n"
          ],
          "name": "stdout"
        }
      ]
    },
    {
      "cell_type": "markdown",
      "metadata": {
        "id": "S5YSHzUR8E_B",
        "colab_type": "text"
      },
      "source": [
        "### スカラーとベクトル"
      ]
    },
    {
      "cell_type": "code",
      "metadata": {
        "id": "f0KRJeiu7mE0",
        "colab_type": "code",
        "colab": {
          "base_uri": "https://localhost:8080/",
          "height": 185
        },
        "outputId": "792c28dd-8bbc-46ec-ade9-7244c46f16ed"
      },
      "source": [
        "scalar = torch.tensor(1.0)\n",
        "print(scalar)\n",
        "print(scalar.dim())\n",
        "print()\n",
        "vector = torch.tensor([1.0,2.0,3.0,4.0])\n",
        "print(vector)\n",
        "print(vector.dim())\n",
        "print(vector.shape)\n",
        "print()\n",
        "vector = torch.tensor([4.0])\n",
        "print(vector)\n",
        "print(vector.dim())\n",
        "print(vector.shape)"
      ],
      "execution_count": 6,
      "outputs": [
        {
          "output_type": "stream",
          "text": [
            "tensor(1.)\n",
            "0\n",
            "\n",
            "tensor([1., 2., 3., 4.])\n",
            "1\n",
            "torch.Size([4])\n",
            "\n",
            "tensor([4.])\n",
            "1\n",
            "torch.Size([1])\n"
          ],
          "name": "stdout"
        }
      ]
    },
    {
      "cell_type": "markdown",
      "metadata": {
        "id": "ohAYO4Om8WmT",
        "colab_type": "text"
      },
      "source": [
        "### 行列"
      ]
    },
    {
      "cell_type": "code",
      "metadata": {
        "id": "SrayRh_48EPA",
        "colab_type": "code",
        "colab": {
          "base_uri": "https://localhost:8080/",
          "height": 101
        },
        "outputId": "806c916c-6638-46a0-b63a-98fa2ead23e6"
      },
      "source": [
        "matrix = torch.tensor([[1.0,2.0],[3.0,4.0]])\n",
        "print(matrix)\n",
        "print(matrix.dim())\n",
        "print(matrix.shape)\n",
        "print(matrix[1,1])"
      ],
      "execution_count": 7,
      "outputs": [
        {
          "output_type": "stream",
          "text": [
            "tensor([[1., 2.],\n",
            "        [3., 4.]])\n",
            "2\n",
            "torch.Size([2, 2])\n",
            "tensor(4.)\n"
          ],
          "name": "stdout"
        }
      ]
    },
    {
      "cell_type": "markdown",
      "metadata": {
        "id": "6XRgzduC8oID",
        "colab_type": "text"
      },
      "source": [
        "### テンソル"
      ]
    },
    {
      "cell_type": "code",
      "metadata": {
        "id": "ZPERpt9z8YJ0",
        "colab_type": "code",
        "colab": {
          "base_uri": "https://localhost:8080/",
          "height": 151
        },
        "outputId": "34b5584c-31ee-4131-dd3f-fa6cbe197e69"
      },
      "source": [
        "tensor3 = torch.tensor([[[1.0,2.0],[3.0,4.0]],[[5.0,6.0],[7.0,8.0]]])\n",
        "print(tensor3)\n",
        "print(tensor3.dim())\n",
        "print(tensor3.shape)\n",
        "print(tensor3[1,1,1])"
      ],
      "execution_count": 8,
      "outputs": [
        {
          "output_type": "stream",
          "text": [
            "tensor([[[1., 2.],\n",
            "         [3., 4.]],\n",
            "\n",
            "        [[5., 6.],\n",
            "         [7., 8.]]])\n",
            "3\n",
            "torch.Size([2, 2, 2])\n",
            "tensor(8.)\n"
          ],
          "name": "stdout"
        }
      ]
    },
    {
      "cell_type": "code",
      "metadata": {
        "id": "MW1dYvFR8qYF",
        "colab_type": "code",
        "colab": {
          "base_uri": "https://localhost:8080/",
          "height": 269
        },
        "outputId": "5eaef85f-da4d-4acd-ed0b-98c1f30a45a5"
      },
      "source": [
        "tensor4 = torch.tensor([[[[1.0,1.0],[2.0,2.0]],[[3.0,3.0],[4.0,4.0]]],\n",
        "                        [[[5.0,5.0],[6.0,6.0]],[[7.0,7.0],[8.0,8.0]]]])\n",
        "print(tensor4)\n",
        "print(tensor4.dim())\n",
        "print(tensor4.shape)\n",
        "print(tensor4[1,1,1,1])"
      ],
      "execution_count": 9,
      "outputs": [
        {
          "output_type": "stream",
          "text": [
            "tensor([[[[1., 1.],\n",
            "          [2., 2.]],\n",
            "\n",
            "         [[3., 3.],\n",
            "          [4., 4.]]],\n",
            "\n",
            "\n",
            "        [[[5., 5.],\n",
            "          [6., 6.]],\n",
            "\n",
            "         [[7., 7.],\n",
            "          [8., 8.]]]])\n",
            "4\n",
            "torch.Size([2, 2, 2, 2])\n",
            "tensor(8.)\n"
          ],
          "name": "stdout"
        }
      ]
    },
    {
      "cell_type": "code",
      "metadata": {
        "id": "3AMIFQ6s9SlF",
        "colab_type": "code",
        "colab": {
          "base_uri": "https://localhost:8080/",
          "height": 151
        },
        "outputId": "85faacb4-79ac-4063-e41f-c1bc04f5302c"
      },
      "source": [
        "tensor3 = torch.tensor([[[1.0,2.0],[3.0,4.0]],[[5.0,6.0],[7.0,8.0]]])\n",
        "print(tensor3)\n",
        "print(tensor3.dim())\n",
        "print(tensor3.shape)\n",
        "print(tensor3.size())"
      ],
      "execution_count": 10,
      "outputs": [
        {
          "output_type": "stream",
          "text": [
            "tensor([[[1., 2.],\n",
            "         [3., 4.]],\n",
            "\n",
            "        [[5., 6.],\n",
            "         [7., 8.]]])\n",
            "3\n",
            "torch.Size([2, 2, 2])\n",
            "torch.Size([2, 2, 2])\n"
          ],
          "name": "stdout"
        }
      ]
    },
    {
      "cell_type": "markdown",
      "metadata": {
        "id": "Rjqhtv-n9mM4",
        "colab_type": "text"
      },
      "source": [
        "### view()によるテンソルの形の変更"
      ]
    },
    {
      "cell_type": "code",
      "metadata": {
        "id": "D-R-5W6d9bwV",
        "colab_type": "code",
        "colab": {
          "base_uri": "https://localhost:8080/",
          "height": 202
        },
        "outputId": "bae95c62-95c9-47ca-ecfa-804fa07b8720"
      },
      "source": [
        "vector = torch.arange(0,12)\n",
        "print(vector)\n",
        "print(vector.shape)\n",
        "\n",
        "matrix34 = vector.view(3,4)\n",
        "print(matrix34)\n",
        "print(matrix34.shape)\n",
        "\n",
        "matrix43 = vector.view(4,-1)\n",
        "print(matrix43)\n",
        "print(matrix43.shape)"
      ],
      "execution_count": 11,
      "outputs": [
        {
          "output_type": "stream",
          "text": [
            "tensor([ 0,  1,  2,  3,  4,  5,  6,  7,  8,  9, 10, 11])\n",
            "torch.Size([12])\n",
            "tensor([[ 0,  1,  2,  3],\n",
            "        [ 4,  5,  6,  7],\n",
            "        [ 8,  9, 10, 11]])\n",
            "torch.Size([3, 4])\n",
            "tensor([[ 0,  1,  2],\n",
            "        [ 3,  4,  5],\n",
            "        [ 6,  7,  8],\n",
            "        [ 9, 10, 11]])\n",
            "torch.Size([4, 3])\n"
          ],
          "name": "stdout"
        }
      ]
    },
    {
      "cell_type": "markdown",
      "metadata": {
        "id": "JF4-o8Ow-vZK",
        "colab_type": "text"
      },
      "source": [
        "### reshape()によるテンソルの形の変更"
      ]
    },
    {
      "cell_type": "code",
      "metadata": {
        "id": "LFJhdBFu9qbj",
        "colab_type": "code",
        "colab": {
          "base_uri": "https://localhost:8080/",
          "height": 252
        },
        "outputId": "5087fde4-7143-40f5-9a32-2edee268fdeb"
      },
      "source": [
        "matrix26 = torch.arange(0,12).view(2,6)\n",
        "print(matrix26)\n",
        "print(matrix26.shape)\n",
        "\n",
        "matrix62 = matrix26.t()\n",
        "print(matrix62.is_contiguous())\n",
        "print(matrix62.contiguous().is_contiguous())\n",
        "\n",
        "#matrix34 = matrix62.view(3,4) # これはエラーになる\n",
        "matrix34 = matrix62.reshape(3,4)\n",
        "print(matrix34)\n",
        "\n",
        "matrix34 = matrix62.contiguous().view(3,4) # これはエラーにならない\n",
        "print(matrix34)\n",
        "\n",
        "matrix34 = matrix62.reshape(-1,4)\n",
        "print(matrix34)"
      ],
      "execution_count": 12,
      "outputs": [
        {
          "output_type": "stream",
          "text": [
            "tensor([[ 0,  1,  2,  3,  4,  5],\n",
            "        [ 6,  7,  8,  9, 10, 11]])\n",
            "torch.Size([2, 6])\n",
            "False\n",
            "True\n",
            "tensor([[ 0,  6,  1,  7],\n",
            "        [ 2,  8,  3,  9],\n",
            "        [ 4, 10,  5, 11]])\n",
            "tensor([[ 0,  6,  1,  7],\n",
            "        [ 2,  8,  3,  9],\n",
            "        [ 4, 10,  5, 11]])\n",
            "tensor([[ 0,  6,  1,  7],\n",
            "        [ 2,  8,  3,  9],\n",
            "        [ 4, 10,  5, 11]])\n"
          ],
          "name": "stdout"
        }
      ]
    },
    {
      "cell_type": "markdown",
      "metadata": {
        "id": "vrT0mREK-_xK",
        "colab_type": "text"
      },
      "source": [
        "### NumPyのndarrayからfrom_numpy()でPyTorchのテンソルを作る"
      ]
    },
    {
      "cell_type": "code",
      "metadata": {
        "id": "kAHQnU5e-TNN",
        "colab_type": "code",
        "colab": {
          "base_uri": "https://localhost:8080/",
          "height": 84
        },
        "outputId": "61ed9146-48c3-488f-a034-5cad117d4d44"
      },
      "source": [
        "arr = np.zeros(3)\n",
        "tensor = torch.from_numpy(arr)\n",
        "print(arr)\n",
        "print(tensor)\n",
        "\n",
        "# 元のndarrayを変更するとテンソルも変更されることに注意！\n",
        "np.add(arr, 1, out=arr)\n",
        "print(arr)\n",
        "print(tensor)"
      ],
      "execution_count": 13,
      "outputs": [
        {
          "output_type": "stream",
          "text": [
            "[0. 0. 0.]\n",
            "tensor([0., 0., 0.], dtype=torch.float64)\n",
            "[1. 1. 1.]\n",
            "tensor([1., 1., 1.], dtype=torch.float64)\n"
          ],
          "name": "stdout"
        }
      ]
    },
    {
      "cell_type": "code",
      "metadata": {
        "id": "zsDubMPx_KMH",
        "colab_type": "code",
        "colab": {
          "base_uri": "https://localhost:8080/",
          "height": 84
        },
        "outputId": "80f7b10e-47d3-4ae4-bad3-3896b3fb60b6"
      },
      "source": [
        "tensor = torch.zeros(3)\n",
        "arr = tensor.numpy()\n",
        "print(tensor)\n",
        "print(arr)\n",
        "\n",
        "# テンソルのほうを変更しても元のndarrayが変更されることに注意！\n",
        "tensor.add_(1)\n",
        "print(tensor)\n",
        "print(arr)"
      ],
      "execution_count": 14,
      "outputs": [
        {
          "output_type": "stream",
          "text": [
            "tensor([0., 0., 0.])\n",
            "[0. 0. 0.]\n",
            "tensor([1., 1., 1.])\n",
            "[1. 1. 1.]\n"
          ],
          "name": "stdout"
        }
      ]
    },
    {
      "cell_type": "markdown",
      "metadata": {
        "id": "ReF3qlOh_yfP",
        "colab_type": "text"
      },
      "source": [
        "### clone()によるテンソルの複製"
      ]
    },
    {
      "cell_type": "code",
      "metadata": {
        "id": "czJEKEr-_i9S",
        "colab_type": "code",
        "colab": {
          "base_uri": "https://localhost:8080/",
          "height": 84
        },
        "outputId": "10a50a82-e3c2-4182-ad93-e13097452cca"
      },
      "source": [
        "tensor = torch.zeros(3)\n",
        "\n",
        "arr = tensor.clone().numpy()\n",
        "print(tensor)\n",
        "print(arr)\n",
        "\n",
        "tensor.add_(1) #给 tensor增加1，arr不再随之改变\n",
        "print(tensor)\n",
        "print(arr)"
      ],
      "execution_count": 15,
      "outputs": [
        {
          "output_type": "stream",
          "text": [
            "tensor([0., 0., 0.])\n",
            "[0. 0. 0.]\n",
            "tensor([1., 1., 1.])\n",
            "[0. 0. 0.]\n"
          ],
          "name": "stdout"
        }
      ]
    },
    {
      "cell_type": "markdown",
      "metadata": {
        "id": "2zBYJfxFAIe_",
        "colab_type": "text"
      },
      "source": [
        "### item()とtolist()によるPythonの組み込み型への変換"
      ]
    },
    {
      "cell_type": "code",
      "metadata": {
        "id": "LhSlf8Cz_7y9",
        "colab_type": "code",
        "colab": {
          "base_uri": "https://localhost:8080/",
          "height": 84
        },
        "outputId": "bf597751-224f-4e8a-91f7-c64df03acff5"
      },
      "source": [
        "scalar = torch.tensor(1.0)\n",
        "s = scalar.item()\n",
        "print(s)\n",
        "print(type(s))\n",
        "\n",
        "tensor = torch.rand(2,2)\n",
        "t = tensor.tolist()\n",
        "print(t)\n",
        "print(type(t))"
      ],
      "execution_count": 16,
      "outputs": [
        {
          "output_type": "stream",
          "text": [
            "1.0\n",
            "<class 'float'>\n",
            "[[0.6959741115570068, 0.5034485459327698], [0.8959354758262634, 0.27817434072494507]]\n",
            "<class 'list'>\n"
          ],
          "name": "stdout"
        }
      ]
    },
    {
      "cell_type": "markdown",
      "metadata": {
        "id": "A-m9JrrUAbA4",
        "colab_type": "text"
      },
      "source": [
        "## 04-02 自動微分"
      ]
    },
    {
      "cell_type": "markdown",
      "metadata": {
        "id": "aE00Ln1DA8fL",
        "colab_type": "text"
      },
      "source": [
        "### バックプロパゲーション\n",
        "* それに関して微分をしたい変数についてrequires_gradをTrueにセットする。\n",
        " * デフォルトではFalseになっている。\n",
        "* requires_gradがTrueの変数を含む計算が実行されると、計算グラフが内部的に構成される。\n",
        " * この自動微分の方式をdefine by runと呼ぶ。\n",
        "* 微分する関数についてbackward()を実行することで、微分がおこなわれる。"
      ]
    },
    {
      "cell_type": "code",
      "metadata": {
        "id": "BYiICIm2AT28",
        "colab_type": "code",
        "colab": {
          "base_uri": "https://localhost:8080/",
          "height": 34
        },
        "outputId": "2999333f-82e6-4a01-f300-39300926536f"
      },
      "source": [
        "import numpy as np \n",
        "import torch\n",
        "\n",
        "# f(x) = a*x**2 + b*x + cの、x=2におけるxに関する微分係数を求める\n",
        "\n",
        "x = torch.tensor(2.0, requires_grad=True)\n",
        "a = torch.tensor(1.0)\n",
        "b = torch.tensor(-2.0)\n",
        "c = torch.tensor(1.0)\n",
        "\n",
        "y = a * torch.pow(x, 2) + b * x + c\n",
        "\n",
        "y.backward()\n",
        "print(x.grad)"
      ],
      "execution_count": 17,
      "outputs": [
        {
          "output_type": "stream",
          "text": [
            "tensor(2.)\n"
          ],
          "name": "stdout"
        }
      ]
    },
    {
      "cell_type": "markdown",
      "metadata": {
        "id": "3PqN5anRXKd-",
        "colab_type": "text"
      },
      "source": [
        "### 計算グラフ\n",
        "* バックプロパゲーションが可能なのは計算グラフが作られているから。\n",
        "* その計算グラフをtorchvizで可視化してみる。"
      ]
    },
    {
      "cell_type": "code",
      "metadata": {
        "id": "UdQtGCKfWejm",
        "colab_type": "code",
        "colab": {
          "base_uri": "https://localhost:8080/",
          "height": 101
        },
        "outputId": "c503626b-2e79-4000-e8d8-89816da3da1c"
      },
      "source": [
        "!pip install torchviz"
      ],
      "execution_count": 18,
      "outputs": [
        {
          "output_type": "stream",
          "text": [
            "Requirement already satisfied: torchviz in /usr/local/lib/python3.6/dist-packages (0.0.1)\n",
            "Requirement already satisfied: graphviz in /usr/local/lib/python3.6/dist-packages (from torchviz) (0.10.1)\n",
            "Requirement already satisfied: torch in /usr/local/lib/python3.6/dist-packages (from torchviz) (1.6.0+cu101)\n",
            "Requirement already satisfied: future in /usr/local/lib/python3.6/dist-packages (from torch->torchviz) (0.16.0)\n",
            "Requirement already satisfied: numpy in /usr/local/lib/python3.6/dist-packages (from torch->torchviz) (1.18.5)\n"
          ],
          "name": "stdout"
        }
      ]
    },
    {
      "cell_type": "code",
      "metadata": {
        "id": "B-LsTdNcWkp5",
        "colab_type": "code",
        "colab": {
          "base_uri": "https://localhost:8080/",
          "height": 380
        },
        "outputId": "7d209a5a-030b-4d1e-ea59-4035a970e5e2"
      },
      "source": [
        "from torchviz import make_dot\n",
        "\n",
        "x = torch.tensor([2.0], requires_grad=True)\n",
        "a = torch.tensor([1.0])\n",
        "b = torch.tensor([-2.0])\n",
        "c = torch.tensor([1.0])\n",
        "\n",
        "y = a * torch.pow(x, 2) + b * x + c\n",
        "make_dot(y, params={'x':x})"
      ],
      "execution_count": 19,
      "outputs": [
        {
          "output_type": "execute_result",
          "data": {
            "text/plain": [
              "<graphviz.dot.Digraph at 0x7f4938c69780>"
            ],
            "image/svg+xml": "<?xml version=\"1.0\" encoding=\"UTF-8\" standalone=\"no\"?>\n<!DOCTYPE svg PUBLIC \"-//W3C//DTD SVG 1.1//EN\"\n \"http://www.w3.org/Graphics/SVG/1.1/DTD/svg11.dtd\">\n<!-- Generated by graphviz version 2.40.1 (20161225.0304)\n -->\n<!-- Title: %3 Pages: 1 -->\n<svg width=\"208pt\" height=\"270pt\"\n viewBox=\"0.00 0.00 208.00 270.00\" xmlns=\"http://www.w3.org/2000/svg\" xmlns:xlink=\"http://www.w3.org/1999/xlink\">\n<g id=\"graph0\" class=\"graph\" transform=\"scale(1 1) rotate(0) translate(4 266)\">\n<title>%3</title>\n<polygon fill=\"#ffffff\" stroke=\"transparent\" points=\"-4,4 -4,-266 204,-266 204,4 -4,4\"/>\n<!-- 139951212791512 -->\n<g id=\"node1\" class=\"node\">\n<title>139951212791512</title>\n<polygon fill=\"#caff70\" stroke=\"#000000\" points=\"145.5,-21 53.5,-21 53.5,0 145.5,0 145.5,-21\"/>\n<text text-anchor=\"middle\" x=\"99.5\" y=\"-7.4\" font-family=\"Times,serif\" font-size=\"12.00\" fill=\"#000000\">AddBackward0</text>\n</g>\n<!-- 139951212791960 -->\n<g id=\"node2\" class=\"node\">\n<title>139951212791960</title>\n<polygon fill=\"#d3d3d3\" stroke=\"#000000\" points=\"145.5,-78 53.5,-78 53.5,-57 145.5,-57 145.5,-78\"/>\n<text text-anchor=\"middle\" x=\"99.5\" y=\"-64.4\" font-family=\"Times,serif\" font-size=\"12.00\" fill=\"#000000\">AddBackward0</text>\n</g>\n<!-- 139951212791960&#45;&gt;139951212791512 -->\n<g id=\"edge1\" class=\"edge\">\n<title>139951212791960&#45;&gt;139951212791512</title>\n<path fill=\"none\" stroke=\"#000000\" d=\"M99.5,-56.7787C99.5,-49.6134 99.5,-39.9517 99.5,-31.3097\"/>\n<polygon fill=\"#000000\" stroke=\"#000000\" points=\"103.0001,-31.1732 99.5,-21.1732 96.0001,-31.1732 103.0001,-31.1732\"/>\n</g>\n<!-- 139951212792072 -->\n<g id=\"node3\" class=\"node\">\n<title>139951212792072</title>\n<polygon fill=\"#d3d3d3\" stroke=\"#000000\" points=\"91,-135 0,-135 0,-114 91,-114 91,-135\"/>\n<text text-anchor=\"middle\" x=\"45.5\" y=\"-121.4\" font-family=\"Times,serif\" font-size=\"12.00\" fill=\"#000000\">MulBackward0</text>\n</g>\n<!-- 139951212792072&#45;&gt;139951212791960 -->\n<g id=\"edge2\" class=\"edge\">\n<title>139951212792072&#45;&gt;139951212791960</title>\n<path fill=\"none\" stroke=\"#000000\" d=\"M55.657,-113.7787C63.1994,-105.8173 73.6616,-94.7739 82.4742,-85.4717\"/>\n<polygon fill=\"#000000\" stroke=\"#000000\" points=\"85.0519,-87.8399 89.3886,-78.1732 79.9702,-83.0256 85.0519,-87.8399\"/>\n</g>\n<!-- 139951212859968 -->\n<g id=\"node4\" class=\"node\">\n<title>139951212859968</title>\n<polygon fill=\"#d3d3d3\" stroke=\"#000000\" points=\"109,-192 16,-192 16,-171 109,-171 109,-192\"/>\n<text text-anchor=\"middle\" x=\"62.5\" y=\"-178.4\" font-family=\"Times,serif\" font-size=\"12.00\" fill=\"#000000\">PowBackward0</text>\n</g>\n<!-- 139951212859968&#45;&gt;139951212792072 -->\n<g id=\"edge3\" class=\"edge\">\n<title>139951212859968&#45;&gt;139951212792072</title>\n<path fill=\"none\" stroke=\"#000000\" d=\"M59.3024,-170.7787C57.1417,-163.5338 54.2197,-153.7367 51.6206,-145.0221\"/>\n<polygon fill=\"#000000\" stroke=\"#000000\" points=\"54.8954,-143.7557 48.6832,-135.1732 48.1873,-145.7564 54.8954,-143.7557\"/>\n</g>\n<!-- 139951212860640 -->\n<g id=\"node5\" class=\"node\">\n<title>139951212860640</title>\n<polygon fill=\"#add8e6\" stroke=\"#000000\" points=\"126.5,-262 72.5,-262 72.5,-228 126.5,-228 126.5,-262\"/>\n<text text-anchor=\"middle\" x=\"99.5\" y=\"-248.4\" font-family=\"Times,serif\" font-size=\"12.00\" fill=\"#000000\">x</text>\n<text text-anchor=\"middle\" x=\"99.5\" y=\"-235.4\" font-family=\"Times,serif\" font-size=\"12.00\" fill=\"#000000\"> (1)</text>\n</g>\n<!-- 139951212860640&#45;&gt;139951212859968 -->\n<g id=\"edge4\" class=\"edge\">\n<title>139951212860640&#45;&gt;139951212859968</title>\n<path fill=\"none\" stroke=\"#000000\" d=\"M89.5847,-227.9832C84.7429,-219.6737 78.8931,-209.6342 73.8709,-201.015\"/>\n<polygon fill=\"#000000\" stroke=\"#000000\" points=\"76.8915,-199.2469 68.8329,-192.3687 70.8434,-202.771 76.8915,-199.2469\"/>\n</g>\n<!-- 139951212792128 -->\n<g id=\"node6\" class=\"node\">\n<title>139951212792128</title>\n<polygon fill=\"#d3d3d3\" stroke=\"#000000\" points=\"200,-135 109,-135 109,-114 200,-114 200,-135\"/>\n<text text-anchor=\"middle\" x=\"154.5\" y=\"-121.4\" font-family=\"Times,serif\" font-size=\"12.00\" fill=\"#000000\">MulBackward0</text>\n</g>\n<!-- 139951212860640&#45;&gt;139951212792128 -->\n<g id=\"edge6\" class=\"edge\">\n<title>139951212860640&#45;&gt;139951212792128</title>\n<path fill=\"none\" stroke=\"#000000\" d=\"M107.2635,-227.9909C117.3231,-205.9512 134.8299,-167.5955 145.472,-144.2795\"/>\n<polygon fill=\"#000000\" stroke=\"#000000\" points=\"148.7309,-145.5686 149.6992,-135.0181 142.3629,-142.662 148.7309,-145.5686\"/>\n</g>\n<!-- 139951212792128&#45;&gt;139951212791960 -->\n<g id=\"edge5\" class=\"edge\">\n<title>139951212792128&#45;&gt;139951212791960</title>\n<path fill=\"none\" stroke=\"#000000\" d=\"M144.1549,-113.7787C136.4728,-105.8173 125.8169,-94.7739 116.8411,-85.4717\"/>\n<polygon fill=\"#000000\" stroke=\"#000000\" points=\"119.2611,-82.9391 109.7987,-78.1732 114.2237,-87.7997 119.2611,-82.9391\"/>\n</g>\n</g>\n</svg>\n"
          },
          "metadata": {
            "tags": []
          },
          "execution_count": 19
        }
      ]
    },
    {
      "cell_type": "markdown",
      "metadata": {
        "id": "G9RBnEz6bkT8",
        "colab_type": "text"
      },
      "source": [
        "### autograd()を使った高階微分\n",
        "* 第一引数は微分される関数\n",
        "* 第二引数はそれに関して微分する変数\n",
        "* create_graphをTrueにすると計算グラフが作られるので、高階微分を計算できるようになる。"
      ]
    },
    {
      "cell_type": "code",
      "metadata": {
        "id": "n1lr5L5SBOIj",
        "colab_type": "code",
        "colab": {
          "base_uri": "https://localhost:8080/",
          "height": 50
        },
        "outputId": "e04962d2-9433-4781-a43e-3e15185943cc"
      },
      "source": [
        "x = torch.tensor(0.0, requires_grad=True)\n",
        "a = torch.tensor(1.0)\n",
        "b = torch.tensor(-2.0)\n",
        "c = torch.tensor(1.0)\n",
        "d = torch.tensor(5.0)\n",
        "y = a * torch.pow(x, 3) + b * torch.pow(x, 2) + c * x + d\n",
        "\n",
        "dy_dx = torch.autograd.grad(y, x, create_graph=True)[0]\n",
        "print(dy_dx.data)\n",
        "\n",
        "dy2_dx2 = torch.autograd.grad(dy_dx, x)[0]\n",
        "print(dy2_dx2.data)"
      ],
      "execution_count": 20,
      "outputs": [
        {
          "output_type": "stream",
          "text": [
            "tensor(1.)\n",
            "tensor(-4.)\n"
          ],
          "name": "stdout"
        }
      ]
    },
    {
      "cell_type": "markdown",
      "metadata": {
        "id": "cZNfPAyHdpVs",
        "colab_type": "text"
      },
      "source": [
        "### 多変数関数の偏微分とヘシアン"
      ]
    },
    {
      "cell_type": "code",
      "metadata": {
        "id": "VWrfQilec8PE",
        "colab_type": "code",
        "colab": {
          "base_uri": "https://localhost:8080/",
          "height": 84
        },
        "outputId": "b8d0d8d2-b6cd-4241-d632-b6a208869e2f"
      },
      "source": [
        "def func(x1, x2):\n",
        "  return (x1 + 3 * x2) ** 2\n",
        "\n",
        "x1 = torch.tensor(1.0, requires_grad=True)\n",
        "x2 = torch.tensor(2.0, requires_grad=True)\n",
        "y = func(x1, x2)\n",
        "\n",
        "dy_dx1, dy_dx2 = torch.autograd.grad(outputs=y, inputs=[x1, x2], create_graph=True)\n",
        "print(dy_dx1.data, dy_dx2.data)\n",
        "dy_dx1dx1, dy_dx1dx2 = torch.autograd.grad(outputs=dy_dx1, inputs=[x1, x2], retain_graph=True)\n",
        "print(dy_dx1dx1.data, dy_dx1dx2.data)\n",
        "dy_dx2dx1, dy_dx2dx2 = torch.autograd.grad(outputs=dy_dx2, inputs=[x1, x2])\n",
        "print(dy_dx2dx1.data, dy_dx2dx2.data)\n",
        "\n",
        "print(torch.autograd.functional.hessian(func, inputs=(x1, x2)))"
      ],
      "execution_count": 21,
      "outputs": [
        {
          "output_type": "stream",
          "text": [
            "tensor(14.) tensor(42.)\n",
            "tensor(2.) tensor(6.)\n",
            "tensor(6.) tensor(18.)\n",
            "((tensor(2.), tensor(6.)), (tensor(6.), tensor(18.)))\n"
          ],
          "name": "stdout"
        }
      ]
    },
    {
      "cell_type": "markdown",
      "metadata": {
        "id": "HkBqBy05iNM-",
        "colab_type": "text"
      },
      "source": [
        "## 04-03 自動微分を使った制約なし最適化"
      ]
    },
    {
      "cell_type": "code",
      "metadata": {
        "id": "Z8rOcDFviTVp",
        "colab_type": "code",
        "colab": {
          "base_uri": "https://localhost:8080/",
          "height": 353
        },
        "outputId": "2624ccd0-a302-4278-c2f0-88f6e88af554"
      },
      "source": [
        "def f(x, a=1.0, b=-2.0, c=1.0):\n",
        "  return a * torch.pow(x, 2) + b * x + c\n",
        "\n",
        "x = torch.tensor(10.0, requires_grad=True)\n",
        "optimizer = torch.optim.SGD(params=[x], lr=0.1)\n",
        "\n",
        "for i in range(1, 101):\n",
        "  optimizer.zero_grad()\n",
        "  y = f(x)\n",
        "  y.backward()\n",
        "  optimizer.step()\n",
        "  if i % 5 == 0:\n",
        "    print(f'iter {i} : f(x) = {y.data:.6f}, x = {x.data:.6f}')"
      ],
      "execution_count": 22,
      "outputs": [
        {
          "output_type": "stream",
          "text": [
            "iter 5 : f(x) = 13.589545, x = 3.949120\n",
            "iter 10 : f(x) = 1.459167, x = 1.966368\n",
            "iter 15 : f(x) = 0.156677, x = 1.316659\n",
            "iter 20 : f(x) = 0.016823, x = 1.103763\n",
            "iter 25 : f(x) = 0.001806, x = 1.034001\n",
            "iter 30 : f(x) = 0.000194, x = 1.011142\n",
            "iter 35 : f(x) = 0.000021, x = 1.003651\n",
            "iter 40 : f(x) = 0.000002, x = 1.001196\n",
            "iter 45 : f(x) = 0.000000, x = 1.000392\n",
            "iter 50 : f(x) = 0.000000, x = 1.000128\n",
            "iter 55 : f(x) = 0.000000, x = 1.000042\n",
            "iter 60 : f(x) = 0.000000, x = 1.000014\n",
            "iter 65 : f(x) = 0.000000, x = 1.000005\n",
            "iter 70 : f(x) = 0.000000, x = 1.000001\n",
            "iter 75 : f(x) = 0.000000, x = 1.000000\n",
            "iter 80 : f(x) = 0.000000, x = 1.000000\n",
            "iter 85 : f(x) = 0.000000, x = 1.000000\n",
            "iter 90 : f(x) = 0.000000, x = 1.000000\n",
            "iter 95 : f(x) = 0.000000, x = 1.000000\n",
            "iter 100 : f(x) = 0.000000, x = 1.000000\n"
          ],
          "name": "stdout"
        }
      ]
    },
    {
      "cell_type": "markdown",
      "metadata": {
        "id": "y_74bIGBkIib",
        "colab_type": "text"
      },
      "source": [
        "# 課題4\n",
        "* 関数$f(x_1,x_2)=x_1^2+x_2^2$の最小値と、$f(x_1,x_2)$がその最小値をとるときの$x_1$と$x_2$の値を、PyTorchの自動微分を使って求めよう。"
      ]
    }
  ]
}