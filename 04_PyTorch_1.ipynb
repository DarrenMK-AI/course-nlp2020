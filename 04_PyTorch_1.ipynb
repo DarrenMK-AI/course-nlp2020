{
  "nbformat": 4,
  "nbformat_minor": 0,
  "metadata": {
    "colab": {
      "name": "04_PyTorch_1.ipynb",
      "provenance": [],
      "collapsed_sections": [],
      "authorship_tag": "ABX9TyNcGOpnnI17u+yPFqumsR80",
      "include_colab_link": true
    },
    "kernelspec": {
      "name": "python3",
      "display_name": "Python 3"
    }
  },
  "cells": [
    {
      "cell_type": "markdown",
      "metadata": {
        "id": "view-in-github",
        "colab_type": "text"
      },
      "source": [
        "<a href=\"https://colab.research.google.com/github/tomonari-masada/course-nlp2020/blob/master/04_PyTorch_1.ipynb\" target=\"_parent\"><img src=\"https://colab.research.google.com/assets/colab-badge.svg\" alt=\"Open In Colab\"/></a>"
      ]
    },
    {
      "cell_type": "markdown",
      "metadata": {
        "id": "jEY4wJjS58Uw",
        "colab_type": "text"
      },
      "source": [
        "# 04 PyTorch入門（１）\n",
        "参考資料: 《20天吃掉那只Pytorch》 https://github.com/lyhue1991/eat_pytorch_in_20_days"
      ]
    },
    {
      "cell_type": "markdown",
      "metadata": {
        "id": "Nb3T_6gD6Anx",
        "colab_type": "text"
      },
      "source": [
        "## 04-01 テンソル\n",
        "* NumPyのndarrayみたいなもの。\n",
        "* ただし、微分ができる点が大きな違い。\n",
        "* GPUに持っていける。"
      ]
    },
    {
      "cell_type": "code",
      "metadata": {
        "id": "HnNFPrUe53sF",
        "colab_type": "code",
        "colab": {}
      },
      "source": [
        "import numpy as np\n",
        "import torch"
      ],
      "execution_count": 1,
      "outputs": []
    },
    {
      "cell_type": "markdown",
      "metadata": {
        "id": "q_UZIAV06aqr",
        "colab_type": "text"
      },
      "source": [
        "### PyTorchのテンソルのデータ型"
      ]
    },
    {
      "cell_type": "code",
      "metadata": {
        "id": "JPHJ9pGa6Ra6",
        "colab_type": "code",
        "colab": {
          "base_uri": "https://localhost:8080/",
          "height": 67
        },
        "outputId": "1ccdf63d-2579-4780-b975-924b0aa2e314"
      },
      "source": [
        "i = torch.tensor(1)\n",
        "print(i, i.dtype)\n",
        "x = torch.tensor(2.0)\n",
        "print(x, x.dtype)\n",
        "b = torch.tensor(True)\n",
        "print(b, b.dtype)"
      ],
      "execution_count": 2,
      "outputs": [
        {
          "output_type": "stream",
          "text": [
            "tensor(1) torch.int64\n",
            "tensor(2.) torch.float32\n",
            "tensor(True) torch.bool\n"
          ],
          "name": "stdout"
        }
      ]
    },
    {
      "cell_type": "markdown",
      "metadata": {
        "id": "mDrafV5e74Ca",
        "colab_type": "text"
      },
      "source": [
        "### 特定の型のテンソルとして初期化(1)"
      ]
    },
    {
      "cell_type": "code",
      "metadata": {
        "id": "XXFfYPSG6ZFO",
        "colab_type": "code",
        "colab": {
          "base_uri": "https://localhost:8080/",
          "height": 67
        },
        "outputId": "c2f5b6e8-2ca8-4929-dca4-47889cd9d507"
      },
      "source": [
        "# double型は特に理由がない限りは使わないほうがいいかもしれない。\n",
        "i = torch.tensor(1, dtype=torch.int32)\n",
        "print(i, i.dtype)\n",
        "x = torch.tensor(2.0, dtype=torch.float)\n",
        "print(x, x.dtype)\n",
        "z = torch.tensor(2.0, dtype=torch.double)\n",
        "print(z, z.dtype)"
      ],
      "execution_count": 4,
      "outputs": [
        {
          "output_type": "stream",
          "text": [
            "tensor(1, dtype=torch.int32) torch.int32\n",
            "tensor(2.) torch.float32\n",
            "tensor(2., dtype=torch.float64) torch.float64\n"
          ],
          "name": "stdout"
        }
      ]
    },
    {
      "cell_type": "markdown",
      "metadata": {
        "id": "vQrL43C27wrG",
        "colab_type": "text"
      },
      "source": [
        "### 特定の型のテンソルとして初期化(2)"
      ]
    },
    {
      "cell_type": "code",
      "metadata": {
        "id": "udgaTsg66syq",
        "colab_type": "code",
        "colab": {
          "base_uri": "https://localhost:8080/",
          "height": 67
        },
        "outputId": "2724501a-bd1a-45c4-b414-7956d4f9824a"
      },
      "source": [
        "i = torch.IntTensor([1,2,3])\n",
        "print(i, i.dtype)\n",
        "x = torch.FloatTensor(np.array([2.0,-4.0]))\n",
        "print(x, x.dtype)\n",
        "b = torch.BoolTensor(np.array([1,0,2,0]))\n",
        "print(b, b.dtype)"
      ],
      "execution_count": 11,
      "outputs": [
        {
          "output_type": "stream",
          "text": [
            "tensor([1, 2, 3], dtype=torch.int32) torch.int32\n",
            "tensor([ 2., -4.]) torch.float32\n",
            "tensor([ True, False,  True, False]) torch.bool\n"
          ],
          "name": "stdout"
        }
      ]
    },
    {
      "cell_type": "markdown",
      "metadata": {
        "id": "vxW9yw9X7jZZ",
        "colab_type": "text"
      },
      "source": [
        "### 型の変換"
      ]
    },
    {
      "cell_type": "code",
      "metadata": {
        "id": "4fKa8r5g7C59",
        "colab_type": "code",
        "colab": {
          "base_uri": "https://localhost:8080/",
          "height": 84
        },
        "outputId": "2e924dad-54a8-413a-b772-001ff3b099c4"
      },
      "source": [
        "i = torch.tensor(1)\n",
        "print(i, i.dtype)\n",
        "x = i.float()\n",
        "print(x, x.dtype)\n",
        "y = i.type(torch.float)\n",
        "print(y, y.dtype)\n",
        "z = i.type_as(x)\n",
        "print(z, z.dtype)"
      ],
      "execution_count": 14,
      "outputs": [
        {
          "output_type": "stream",
          "text": [
            "tensor(1) torch.int64\n",
            "tensor(1.) torch.float32\n",
            "tensor(1.) torch.float32\n",
            "tensor(1.) torch.float32\n"
          ],
          "name": "stdout"
        }
      ]
    },
    {
      "cell_type": "markdown",
      "metadata": {
        "id": "S5YSHzUR8E_B",
        "colab_type": "text"
      },
      "source": [
        "### スカラーとベクトル"
      ]
    },
    {
      "cell_type": "code",
      "metadata": {
        "id": "f0KRJeiu7mE0",
        "colab_type": "code",
        "colab": {
          "base_uri": "https://localhost:8080/",
          "height": 185
        },
        "outputId": "f0709d35-e634-4808-92b7-a08a0fbf4c91"
      },
      "source": [
        "scalar = torch.tensor(1.0)\n",
        "print(scalar)\n",
        "print(scalar.dim())\n",
        "print()\n",
        "vector = torch.tensor([1.0,2.0,3.0,4.0])\n",
        "print(vector)\n",
        "print(vector.dim())\n",
        "print(vector.shape)\n",
        "print()\n",
        "vector = torch.tensor([4.0])\n",
        "print(vector)\n",
        "print(vector.dim())\n",
        "print(vector.shape)"
      ],
      "execution_count": 24,
      "outputs": [
        {
          "output_type": "stream",
          "text": [
            "tensor(1.)\n",
            "0\n",
            "\n",
            "tensor([1., 2., 3., 4.])\n",
            "1\n",
            "torch.Size([4])\n",
            "\n",
            "tensor([4.])\n",
            "1\n",
            "torch.Size([1])\n"
          ],
          "name": "stdout"
        }
      ]
    },
    {
      "cell_type": "markdown",
      "metadata": {
        "id": "ohAYO4Om8WmT",
        "colab_type": "text"
      },
      "source": [
        "### 行列"
      ]
    },
    {
      "cell_type": "code",
      "metadata": {
        "id": "SrayRh_48EPA",
        "colab_type": "code",
        "colab": {
          "base_uri": "https://localhost:8080/",
          "height": 101
        },
        "outputId": "d066f850-17b3-4d88-956a-ed094f667245"
      },
      "source": [
        "matrix = torch.tensor([[1.0,2.0],[3.0,4.0]])\n",
        "print(matrix)\n",
        "print(matrix.dim())\n",
        "print(matrix.shape)\n",
        "print(matrix[1,1])"
      ],
      "execution_count": 25,
      "outputs": [
        {
          "output_type": "stream",
          "text": [
            "tensor([[1., 2.],\n",
            "        [3., 4.]])\n",
            "2\n",
            "torch.Size([2, 2])\n",
            "tensor(4.)\n"
          ],
          "name": "stdout"
        }
      ]
    },
    {
      "cell_type": "markdown",
      "metadata": {
        "id": "6XRgzduC8oID",
        "colab_type": "text"
      },
      "source": [
        "### テンソル"
      ]
    },
    {
      "cell_type": "code",
      "metadata": {
        "id": "ZPERpt9z8YJ0",
        "colab_type": "code",
        "colab": {
          "base_uri": "https://localhost:8080/",
          "height": 151
        },
        "outputId": "e0924a83-f127-4969-f453-f860a750e305"
      },
      "source": [
        "tensor3 = torch.tensor([[[1.0,2.0],[3.0,4.0]],[[5.0,6.0],[7.0,8.0]]])\n",
        "print(tensor3)\n",
        "print(tensor3.dim())\n",
        "print(tensor3.shape)\n",
        "print(tensor3[1,1,1])"
      ],
      "execution_count": 26,
      "outputs": [
        {
          "output_type": "stream",
          "text": [
            "tensor([[[1., 2.],\n",
            "         [3., 4.]],\n",
            "\n",
            "        [[5., 6.],\n",
            "         [7., 8.]]])\n",
            "3\n",
            "torch.Size([2, 2, 2])\n",
            "tensor(8.)\n"
          ],
          "name": "stdout"
        }
      ]
    },
    {
      "cell_type": "code",
      "metadata": {
        "id": "MW1dYvFR8qYF",
        "colab_type": "code",
        "colab": {
          "base_uri": "https://localhost:8080/",
          "height": 269
        },
        "outputId": "0aca244c-d881-4d2b-e87e-88cfbf184cd1"
      },
      "source": [
        "tensor4 = torch.tensor([[[[1.0,1.0],[2.0,2.0]],[[3.0,3.0],[4.0,4.0]]],\n",
        "                        [[[5.0,5.0],[6.0,6.0]],[[7.0,7.0],[8.0,8.0]]]])\n",
        "print(tensor4)\n",
        "print(tensor4.dim())\n",
        "print(tensor4.shape)\n",
        "print(tensor4[1,1,1,1])"
      ],
      "execution_count": 27,
      "outputs": [
        {
          "output_type": "stream",
          "text": [
            "tensor([[[[1., 1.],\n",
            "          [2., 2.]],\n",
            "\n",
            "         [[3., 3.],\n",
            "          [4., 4.]]],\n",
            "\n",
            "\n",
            "        [[[5., 5.],\n",
            "          [6., 6.]],\n",
            "\n",
            "         [[7., 7.],\n",
            "          [8., 8.]]]])\n",
            "4\n",
            "torch.Size([2, 2, 2, 2])\n",
            "tensor(8.)\n"
          ],
          "name": "stdout"
        }
      ]
    },
    {
      "cell_type": "code",
      "metadata": {
        "id": "3AMIFQ6s9SlF",
        "colab_type": "code",
        "colab": {
          "base_uri": "https://localhost:8080/",
          "height": 151
        },
        "outputId": "4209c195-5587-450b-b656-16ed96f86564"
      },
      "source": [
        "tensor3 = torch.tensor([[[1.0,2.0],[3.0,4.0]],[[5.0,6.0],[7.0,8.0]]])\n",
        "print(tensor3)\n",
        "print(tensor3.dim())\n",
        "print(tensor3.shape)\n",
        "print(tensor3.size())"
      ],
      "execution_count": 31,
      "outputs": [
        {
          "output_type": "stream",
          "text": [
            "tensor([[[1., 2.],\n",
            "         [3., 4.]],\n",
            "\n",
            "        [[5., 6.],\n",
            "         [7., 8.]]])\n",
            "3\n",
            "torch.Size([2, 2, 2])\n",
            "torch.Size([2, 2, 2])\n"
          ],
          "name": "stdout"
        }
      ]
    },
    {
      "cell_type": "markdown",
      "metadata": {
        "id": "Rjqhtv-n9mM4",
        "colab_type": "text"
      },
      "source": [
        "### view()によるテンソルの形の変更"
      ]
    },
    {
      "cell_type": "code",
      "metadata": {
        "id": "D-R-5W6d9bwV",
        "colab_type": "code",
        "colab": {
          "base_uri": "https://localhost:8080/",
          "height": 202
        },
        "outputId": "65134d35-af4e-49a4-ab36-5a3dd7b1e205"
      },
      "source": [
        "vector = torch.arange(0,12)\n",
        "print(vector)\n",
        "print(vector.shape)\n",
        "\n",
        "matrix34 = vector.view(3,4)\n",
        "print(matrix34)\n",
        "print(matrix34.shape)\n",
        "\n",
        "matrix43 = vector.view(4,-1)\n",
        "print(matrix43)\n",
        "print(matrix43.shape)"
      ],
      "execution_count": 32,
      "outputs": [
        {
          "output_type": "stream",
          "text": [
            "tensor([ 0,  1,  2,  3,  4,  5,  6,  7,  8,  9, 10, 11])\n",
            "torch.Size([12])\n",
            "tensor([[ 0,  1,  2,  3],\n",
            "        [ 4,  5,  6,  7],\n",
            "        [ 8,  9, 10, 11]])\n",
            "torch.Size([3, 4])\n",
            "tensor([[ 0,  1,  2],\n",
            "        [ 3,  4,  5],\n",
            "        [ 6,  7,  8],\n",
            "        [ 9, 10, 11]])\n",
            "torch.Size([4, 3])\n"
          ],
          "name": "stdout"
        }
      ]
    },
    {
      "cell_type": "markdown",
      "metadata": {
        "id": "JF4-o8Ow-vZK",
        "colab_type": "text"
      },
      "source": [
        "### reshape()によるテンソルの形の変更"
      ]
    },
    {
      "cell_type": "code",
      "metadata": {
        "id": "LFJhdBFu9qbj",
        "colab_type": "code",
        "colab": {
          "base_uri": "https://localhost:8080/",
          "height": 252
        },
        "outputId": "7742addb-71ab-4d5f-edb3-c21220bcd980"
      },
      "source": [
        "matrix26 = torch.arange(0,12).view(2,6)\n",
        "print(matrix26)\n",
        "print(matrix26.shape)\n",
        "\n",
        "matrix62 = matrix26.t()\n",
        "print(matrix62.is_contiguous())\n",
        "print(matrix62.contiguous().is_contiguous())\n",
        "\n",
        "#matrix34 = matrix62.view(3,4) # これはエラーになる\n",
        "matrix34 = matrix62.reshape(3,4)\n",
        "print(matrix34)\n",
        "\n",
        "matrix34 = matrix62.contiguous().view(3,4) # これはエラーにならない\n",
        "print(matrix34)\n",
        "\n",
        "matrix34 = matrix62.reshape(-1,4)\n",
        "print(matrix34)"
      ],
      "execution_count": 37,
      "outputs": [
        {
          "output_type": "stream",
          "text": [
            "tensor([[ 0,  1,  2,  3,  4,  5],\n",
            "        [ 6,  7,  8,  9, 10, 11]])\n",
            "torch.Size([2, 6])\n",
            "False\n",
            "True\n",
            "tensor([[ 0,  6,  1,  7],\n",
            "        [ 2,  8,  3,  9],\n",
            "        [ 4, 10,  5, 11]])\n",
            "tensor([[ 0,  6,  1,  7],\n",
            "        [ 2,  8,  3,  9],\n",
            "        [ 4, 10,  5, 11]])\n",
            "tensor([[ 0,  6,  1,  7],\n",
            "        [ 2,  8,  3,  9],\n",
            "        [ 4, 10,  5, 11]])\n"
          ],
          "name": "stdout"
        }
      ]
    },
    {
      "cell_type": "markdown",
      "metadata": {
        "id": "vrT0mREK-_xK",
        "colab_type": "text"
      },
      "source": [
        "### NumPyのndarrayからfrom_numpy()でPyTorchのテンソルを作る"
      ]
    },
    {
      "cell_type": "code",
      "metadata": {
        "id": "kAHQnU5e-TNN",
        "colab_type": "code",
        "colab": {
          "base_uri": "https://localhost:8080/",
          "height": 84
        },
        "outputId": "c1ddf9b7-8ccc-43b6-83a6-28675cd92365"
      },
      "source": [
        "arr = np.zeros(3)\n",
        "tensor = torch.from_numpy(arr)\n",
        "print(arr)\n",
        "print(tensor)\n",
        "\n",
        "# 元のndarrayを変更するとテンソルも変更されることに注意！\n",
        "np.add(arr, 1, out=arr)\n",
        "print(arr)\n",
        "print(tensor)"
      ],
      "execution_count": 42,
      "outputs": [
        {
          "output_type": "stream",
          "text": [
            "[0. 0. 0.]\n",
            "tensor([0., 0., 0.], dtype=torch.float64)\n",
            "[1. 1. 1.]\n",
            "tensor([1., 1., 1.], dtype=torch.float64)\n"
          ],
          "name": "stdout"
        }
      ]
    },
    {
      "cell_type": "code",
      "metadata": {
        "id": "zsDubMPx_KMH",
        "colab_type": "code",
        "colab": {
          "base_uri": "https://localhost:8080/",
          "height": 84
        },
        "outputId": "3892cab3-8caf-454d-a2fd-447d2819336e"
      },
      "source": [
        "tensor = torch.zeros(3)\n",
        "arr = tensor.numpy()\n",
        "print(tensor)\n",
        "print(arr)\n",
        "\n",
        "# テンソルのほうを変更しても元のndarrayが変更されることに注意！\n",
        "tensor.add_(1)\n",
        "print(tensor)\n",
        "print(arr)"
      ],
      "execution_count": 44,
      "outputs": [
        {
          "output_type": "stream",
          "text": [
            "tensor([0., 0., 0.])\n",
            "[0. 0. 0.]\n",
            "tensor([1., 1., 1.])\n",
            "[1. 1. 1.]\n"
          ],
          "name": "stdout"
        }
      ]
    },
    {
      "cell_type": "markdown",
      "metadata": {
        "id": "ReF3qlOh_yfP",
        "colab_type": "text"
      },
      "source": [
        "### clone()によるテンソルの複製"
      ]
    },
    {
      "cell_type": "code",
      "metadata": {
        "id": "czJEKEr-_i9S",
        "colab_type": "code",
        "colab": {
          "base_uri": "https://localhost:8080/",
          "height": 84
        },
        "outputId": "e4ecda09-bf94-49fb-fbde-1614ca2073c9"
      },
      "source": [
        "tensor = torch.zeros(3)\n",
        "\n",
        "arr = tensor.clone().numpy()\n",
        "print(tensor)\n",
        "print(arr)\n",
        "\n",
        "tensor.add_(1) #给 tensor增加1，arr不再随之改变\n",
        "print(tensor)\n",
        "print(arr)"
      ],
      "execution_count": 45,
      "outputs": [
        {
          "output_type": "stream",
          "text": [
            "tensor([0., 0., 0.])\n",
            "[0. 0. 0.]\n",
            "tensor([1., 1., 1.])\n",
            "[0. 0. 0.]\n"
          ],
          "name": "stdout"
        }
      ]
    },
    {
      "cell_type": "markdown",
      "metadata": {
        "id": "2zBYJfxFAIe_",
        "colab_type": "text"
      },
      "source": [
        "### item()とtolist()によるPythonの組み込み型への変換"
      ]
    },
    {
      "cell_type": "code",
      "metadata": {
        "id": "LhSlf8Cz_7y9",
        "colab_type": "code",
        "colab": {
          "base_uri": "https://localhost:8080/",
          "height": 84
        },
        "outputId": "209ae530-8b2b-474f-95b6-37eaaba77f0b"
      },
      "source": [
        "scalar = torch.tensor(1.0)\n",
        "s = scalar.item()\n",
        "print(s)\n",
        "print(type(s))\n",
        "\n",
        "tensor = torch.rand(2,2)\n",
        "t = tensor.tolist()\n",
        "print(t)\n",
        "print(type(t))"
      ],
      "execution_count": 46,
      "outputs": [
        {
          "output_type": "stream",
          "text": [
            "1.0\n",
            "<class 'float'>\n",
            "[[0.09143203496932983, 0.6068227887153625], [0.769510805606842, 0.22354400157928467]]\n",
            "<class 'list'>\n"
          ],
          "name": "stdout"
        }
      ]
    },
    {
      "cell_type": "markdown",
      "metadata": {
        "id": "A-m9JrrUAbA4",
        "colab_type": "text"
      },
      "source": [
        "## 04-02 自動微分"
      ]
    },
    {
      "cell_type": "markdown",
      "metadata": {
        "id": "aE00Ln1DA8fL",
        "colab_type": "text"
      },
      "source": [
        "### バックプロパゲーション\n",
        "* それに関して微分をしたい変数についてrequires_gradをTrueにセットする。\n",
        " * デフォルトではFalseになっている。\n",
        "* requires_gradがTrueの変数を含む計算が実行されると、計算グラフが内部的に構成される。\n",
        " * この自動微分の方式をdefine by runと呼ぶ。\n",
        "* 微分する関数についてbackward()を実行することで、微分がおこなわれる。"
      ]
    },
    {
      "cell_type": "code",
      "metadata": {
        "id": "BYiICIm2AT28",
        "colab_type": "code",
        "colab": {
          "base_uri": "https://localhost:8080/",
          "height": 34
        },
        "outputId": "9db7aa0f-b75b-423d-fe01-95127da2101d"
      },
      "source": [
        "import numpy as np \n",
        "import torch\n",
        "\n",
        "# f(x) = a*x**2 + b*x + cの、x=2におけるxに関する微分係数を求める\n",
        "\n",
        "x = torch.tensor(2.0, requires_grad = True)\n",
        "a = torch.tensor(1.0)\n",
        "b = torch.tensor(-2.0)\n",
        "c = torch.tensor(1.0)\n",
        "\n",
        "y = a * torch.pow(x, 2) + b * x + c\n",
        "\n",
        "y.backward()\n",
        "print(x.grad)"
      ],
      "execution_count": 52,
      "outputs": [
        {
          "output_type": "stream",
          "text": [
            "tensor(2.)\n"
          ],
          "name": "stdout"
        }
      ]
    },
    {
      "cell_type": "markdown",
      "metadata": {
        "id": "G9RBnEz6bkT8",
        "colab_type": "text"
      },
      "source": [
        "### autograd()を使った高階微分\n",
        "* 第一引数は微分される関数\n",
        "* 第二引数はそれに関して微分する変数\n",
        "* create_graphをTrueにすると計算グラフが作られるので、高階微分を計算できるようになる。"
      ]
    },
    {
      "cell_type": "code",
      "metadata": {
        "id": "n1lr5L5SBOIj",
        "colab_type": "code",
        "colab": {
          "base_uri": "https://localhost:8080/",
          "height": 50
        },
        "outputId": "8699d91a-9c23-448b-b0a9-0797288f1564"
      },
      "source": [
        "x = torch.tensor(0.0, requires_grad = True)\n",
        "a = torch.tensor(1.0)\n",
        "b = torch.tensor(-2.0)\n",
        "c = torch.tensor(1.0)\n",
        "d = torch.tensor(5.0)\n",
        "y = a * torch.pow(x, 3) + b * torch.pow(x, 2) + c * x + d\n",
        "\n",
        "dy_dx = torch.autograd.grad(y, x, create_graph=True)[0]\n",
        "print(dy_dx.data)\n",
        "\n",
        "dy2_dx2 = torch.autograd.grad(dy_dx, x)[0]\n",
        "print(dy2_dx2.data)"
      ],
      "execution_count": 53,
      "outputs": [
        {
          "output_type": "stream",
          "text": [
            "tensor(1.)\n",
            "tensor(-4.)\n"
          ],
          "name": "stdout"
        }
      ]
    },
    {
      "cell_type": "markdown",
      "metadata": {
        "id": "cZNfPAyHdpVs",
        "colab_type": "text"
      },
      "source": [
        "### 多変数関数の偏微分とヘシアン"
      ]
    },
    {
      "cell_type": "code",
      "metadata": {
        "id": "VWrfQilec8PE",
        "colab_type": "code",
        "colab": {
          "base_uri": "https://localhost:8080/",
          "height": 84
        },
        "outputId": "7d356f79-4df7-4ece-d13b-52288c5b4fee"
      },
      "source": [
        "def func(x1, x2):\n",
        "  return (x1 + 3 * x2) ** 2\n",
        "\n",
        "x1 = torch.tensor(1.0, requires_grad=True)\n",
        "x2 = torch.tensor(2.0, requires_grad=True)\n",
        "y = func(x1, x2)\n",
        "\n",
        "dy_dx1, dy_dx2 = torch.autograd.grad(outputs=y, inputs=[x1, x2], create_graph=True)\n",
        "print(dy_dx1.data, dy_dx2.data)\n",
        "dy_dx1dx1, dy_dx1dx2 = torch.autograd.grad(outputs=dy_dx1, inputs=[x1, x2], retain_graph=True)\n",
        "print(dy_dx1dx1.data, dy_dx1dx2.data)\n",
        "dy_dx2dx1, dy_dx2dx2 = torch.autograd.grad(outputs=dy_dx2, inputs=[x1, x2])\n",
        "print(dy_dx2dx1.data, dy_dx2dx2.data)\n",
        "\n",
        "print(torch.autograd.functional.hessian(func, inputs=(x1, x2)))"
      ],
      "execution_count": 85,
      "outputs": [
        {
          "output_type": "stream",
          "text": [
            "tensor(14.) tensor(42.)\n",
            "tensor(2.) tensor(6.)\n",
            "tensor(6.) tensor(18.)\n",
            "((tensor(2.), tensor(6.)), (tensor(6.), tensor(18.)))\n"
          ],
          "name": "stdout"
        }
      ]
    },
    {
      "cell_type": "markdown",
      "metadata": {
        "id": "HkBqBy05iNM-",
        "colab_type": "text"
      },
      "source": [
        "## 04-03 自動微分を使った制約なし最適化"
      ]
    },
    {
      "cell_type": "code",
      "metadata": {
        "id": "Z8rOcDFviTVp",
        "colab_type": "code",
        "colab": {
          "base_uri": "https://localhost:8080/",
          "height": 353
        },
        "outputId": "f71ae5c6-d570-45c1-b791-47880c38b483"
      },
      "source": [
        "def f(x, a=1.0, b=-2.0, c=1.0):\n",
        "  return a * torch.pow(x, 2) + b * x + c\n",
        "\n",
        "x = torch.tensor(10.0, requires_grad=True)\n",
        "optimizer = torch.optim.SGD(params=[x], lr=0.1)\n",
        "\n",
        "for i in range(1, 101):\n",
        "  optimizer.zero_grad()\n",
        "  y = f(x)\n",
        "  y.backward()\n",
        "  optimizer.step()\n",
        "  if i % 5 == 0:\n",
        "    print(f'iter {i} : f(x) = {y.data:.6f}, x = {x.data:.6f}')"
      ],
      "execution_count": 98,
      "outputs": [
        {
          "output_type": "stream",
          "text": [
            "iter 5 : f(x) = 13.589545, x = 3.949120\n",
            "iter 10 : f(x) = 1.459167, x = 1.966368\n",
            "iter 15 : f(x) = 0.156677, x = 1.316659\n",
            "iter 20 : f(x) = 0.016823, x = 1.103763\n",
            "iter 25 : f(x) = 0.001806, x = 1.034001\n",
            "iter 30 : f(x) = 0.000194, x = 1.011142\n",
            "iter 35 : f(x) = 0.000021, x = 1.003651\n",
            "iter 40 : f(x) = 0.000002, x = 1.001196\n",
            "iter 45 : f(x) = 0.000000, x = 1.000392\n",
            "iter 50 : f(x) = 0.000000, x = 1.000128\n",
            "iter 55 : f(x) = 0.000000, x = 1.000042\n",
            "iter 60 : f(x) = 0.000000, x = 1.000014\n",
            "iter 65 : f(x) = 0.000000, x = 1.000005\n",
            "iter 70 : f(x) = 0.000000, x = 1.000001\n",
            "iter 75 : f(x) = 0.000000, x = 1.000000\n",
            "iter 80 : f(x) = 0.000000, x = 1.000000\n",
            "iter 85 : f(x) = 0.000000, x = 1.000000\n",
            "iter 90 : f(x) = 0.000000, x = 1.000000\n",
            "iter 95 : f(x) = 0.000000, x = 1.000000\n",
            "iter 100 : f(x) = 0.000000, x = 1.000000\n"
          ],
          "name": "stdout"
        }
      ]
    },
    {
      "cell_type": "markdown",
      "metadata": {
        "id": "y_74bIGBkIib",
        "colab_type": "text"
      },
      "source": [
        "# 課題4\n",
        "* 関数$f(x_1,x_2)=x_1^2+x_2^2$の最小値と、$f(x_1,x_2)$がその最小値をとるときの$x_1$と$x_2$の値を、PyTorchの自動微分を使って求めよう。"
      ]
    }
  ]
}