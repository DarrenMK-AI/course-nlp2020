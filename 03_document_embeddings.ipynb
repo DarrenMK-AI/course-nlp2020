{
  "nbformat": 4,
  "nbformat_minor": 0,
  "metadata": {
    "colab": {
      "name": "03_document_embeddings.ipynb",
      "provenance": [],
      "collapsed_sections": [],
      "mount_file_id": "1N4lKbEeHtRTAvV47AjDDqnaHul1tGFxh",
      "authorship_tag": "ABX9TyNTVrT8HEeDl0cpyRQInxW2",
      "include_colab_link": true
    },
    "kernelspec": {
      "name": "python3",
      "display_name": "Python 3"
    }
  },
  "cells": [
    {
      "cell_type": "markdown",
      "metadata": {
        "id": "view-in-github",
        "colab_type": "text"
      },
      "source": [
        "<a href=\"https://colab.research.google.com/github/tomonari-masada/course-nlp2020/blob/master/03_document_embeddings.ipynb\" target=\"_parent\"><img src=\"https://colab.research.google.com/assets/colab-badge.svg\" alt=\"Open In Colab\"/></a>"
      ]
    },
    {
      "cell_type": "markdown",
      "metadata": {
        "id": "oo-mY9Lf_9NT",
        "colab_type": "text"
      },
      "source": [
        "# 03 単語埋め込みを使った感情分析\n",
        "* IMDbデータで感情分析をおこなう。\n",
        "* fastTextを使ってまず単語埋め込みを得て、そして、単語埋め込みベクトルの平均として文書埋め込みベクトルを求めたデータを使う。\n",
        "* 分類には古典的な機械学習の手法を使う。"
      ]
    },
    {
      "cell_type": "code",
      "metadata": {
        "id": "xPV5rjYhASM6",
        "colab_type": "code",
        "colab": {}
      },
      "source": [
        "import numpy as np"
      ],
      "execution_count": 3,
      "outputs": []
    },
    {
      "cell_type": "markdown",
      "metadata": {
        "id": "cswS9fn5BHd1",
        "colab_type": "text"
      },
      "source": [
        "### データファイルを保存してあるGoogle Driveのデイレクトリを指定する"
      ]
    },
    {
      "cell_type": "code",
      "metadata": {
        "id": "LwvTG5ac_3KG",
        "colab_type": "code",
        "colab": {}
      },
      "source": [
        "PATH = '/content/drive/My Drive/2020Courses/NLP/'"
      ],
      "execution_count": 4,
      "outputs": []
    },
    {
      "cell_type": "markdown",
      "metadata": {
        "id": "Ix1kFwt-BNR3",
        "colab_type": "text"
      },
      "source": [
        "### データを読み込む\n",
        "* データは文書埋め込みと文書ラベル（0か1）からなる。"
      ]
    },
    {
      "cell_type": "code",
      "metadata": {
        "id": "Yq3DxOR5AIg4",
        "colab_type": "code",
        "colab": {}
      },
      "source": [
        "texts = dict()\n",
        "labels = dict()\n",
        "for tag in ['train', 'valid', 'test']:\n",
        "  with open(f'{PATH}{tag}.npy', 'rb') as f:\n",
        "    texts[tag] = np.load(f)\n",
        "  with open(f'{PATH}{tag}_labels.npy', 'rb') as f:\n",
        "    labels[tag] = np.load(f)"
      ],
      "execution_count": 5,
      "outputs": []
    },
    {
      "cell_type": "code",
      "metadata": {
        "id": "Mx7UQSGIAQWo",
        "colab_type": "code",
        "colab": {
          "base_uri": "https://localhost:8080/",
          "height": 67
        },
        "outputId": "58a895d1-4e18-4e12-a6ec-61ad712d648e"
      },
      "source": [
        "for tag in ['train', 'valid', 'test']:\n",
        "  print(texts[tag].shape)"
      ],
      "execution_count": 6,
      "outputs": [
        {
          "output_type": "stream",
          "text": [
            "(20000, 300)\n",
            "(5000, 300)\n",
            "(25000, 300)\n"
          ],
          "name": "stdout"
        }
      ]
    },
    {
      "cell_type": "markdown",
      "metadata": {
        "id": "j6nhT1XhBVDk",
        "colab_type": "text"
      },
      "source": [
        "### scikit-learnのLinearSVCを使う\n",
        "* 各自、他の分類器も試す。"
      ]
    },
    {
      "cell_type": "code",
      "metadata": {
        "id": "56CHYI2EAYZy",
        "colab_type": "code",
        "colab": {}
      },
      "source": [
        "from sklearn.svm import LinearSVC"
      ],
      "execution_count": 7,
      "outputs": []
    },
    {
      "cell_type": "markdown",
      "metadata": {
        "id": "sMqFa-D-BeP6",
        "colab_type": "text"
      },
      "source": [
        "### 正則化パラメータCをチューニングする"
      ]
    },
    {
      "cell_type": "code",
      "metadata": {
        "id": "wI7rEJKKAc1q",
        "colab_type": "code",
        "colab": {
          "base_uri": "https://localhost:8080/",
          "height": 255
        },
        "outputId": "68b92110-9763-493f-b3a9-f3fe029dda27"
      },
      "source": [
        "for C in 10. ** np.arange(-2, 5):\n",
        "    print(f'# C={C}:', end=' ', flush=True)\n",
        "    svm = LinearSVC(C=C)\n",
        "    svm.fit(texts['train'], labels['train'])\n",
        "    print(f\"{svm.score(texts['valid'], labels['valid'])}\")"
      ],
      "execution_count": 9,
      "outputs": [
        {
          "output_type": "stream",
          "text": [
            "# C=0.01: 0.7244\n",
            "# C=0.1: 0.8164\n",
            "# C=1.0: 0.8548\n",
            "# C=10.0: 0.8658\n",
            "# C=100.0: 0.8644\n",
            "# C=1000.0: "
          ],
          "name": "stdout"
        },
        {
          "output_type": "stream",
          "text": [
            "/usr/local/lib/python3.6/dist-packages/sklearn/svm/_base.py:947: ConvergenceWarning: Liblinear failed to converge, increase the number of iterations.\n",
            "  \"the number of iterations.\", ConvergenceWarning)\n"
          ],
          "name": "stderr"
        },
        {
          "output_type": "stream",
          "text": [
            "0.7734\n",
            "# C=10000.0: "
          ],
          "name": "stdout"
        },
        {
          "output_type": "stream",
          "text": [
            "/usr/local/lib/python3.6/dist-packages/sklearn/svm/_base.py:947: ConvergenceWarning: Liblinear failed to converge, increase the number of iterations.\n",
            "  \"the number of iterations.\", ConvergenceWarning)\n"
          ],
          "name": "stderr"
        },
        {
          "output_type": "stream",
          "text": [
            "0.7854\n"
          ],
          "name": "stdout"
        },
        {
          "output_type": "stream",
          "text": [
            "/usr/local/lib/python3.6/dist-packages/sklearn/svm/_base.py:947: ConvergenceWarning: Liblinear failed to converge, increase the number of iterations.\n",
            "  \"the number of iterations.\", ConvergenceWarning)\n"
          ],
          "name": "stderr"
        }
      ]
    },
    {
      "cell_type": "code",
      "metadata": {
        "id": "3hDmny41Ag3u",
        "colab_type": "code",
        "colab": {
          "base_uri": "https://localhost:8080/",
          "height": 34
        },
        "outputId": "0bedd858-f049-456d-bef7-5c7fcfc6a3bd"
      },
      "source": [
        "svm = LinearSVC(C=10.0)\n",
        "svm.fit(texts['train'], labels['train'])\n",
        "print(f\"test score: {svm.score(texts['test'], labels['test'])}\")"
      ],
      "execution_count": 11,
      "outputs": [
        {
          "output_type": "stream",
          "text": [
            "test score: 0.85744\n"
          ],
          "name": "stdout"
        }
      ]
    },
    {
      "cell_type": "code",
      "metadata": {
        "id": "rO1FO6WPBwKO",
        "colab_type": "code",
        "colab": {}
      },
      "source": [
        ""
      ],
      "execution_count": null,
      "outputs": []
    }
  ]
}