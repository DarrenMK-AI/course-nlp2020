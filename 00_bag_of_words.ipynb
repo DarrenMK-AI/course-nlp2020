{
  "nbformat": 4,
  "nbformat_minor": 0,
  "metadata": {
    "colab": {
      "name": "00_bag-of-words.ipynb",
      "provenance": [],
      "collapsed_sections": [],
      "authorship_tag": "ABX9TyNU/niSYoTtuyWaTakdHqL1",
      "include_colab_link": true
    },
    "kernelspec": {
      "name": "python3",
      "display_name": "Python 3"
    }
  },
  "cells": [
    {
      "cell_type": "markdown",
      "metadata": {
        "id": "view-in-github",
        "colab_type": "text"
      },
      "source": [
        "<a href=\"https://colab.research.google.com/github/tomonari-masada/course-nlp2020/blob/master/00_bag_of_words.ipynb\" target=\"_parent\"><img src=\"https://colab.research.google.com/assets/colab-badge.svg\" alt=\"Open In Colab\"/></a>"
      ]
    },
    {
      "cell_type": "markdown",
      "metadata": {
        "id": "PKEP5r0nOxjd",
        "colab_type": "text"
      },
      "source": [
        "### 軽い前置き\n",
        "* この授業では、Pythonのコーディングの基礎は習得済みであることを前提します。\n",
        "* また、NumPyやscikit-learnの基本的な使い方は習得済みであることを前提します。"
      ]
    },
    {
      "cell_type": "markdown",
      "metadata": {
        "id": "z57oKsOVGOWf",
        "colab_type": "text"
      },
      "source": [
        "# 00 bag-of-wordsモデル\n",
        "* **bag-of-wordsモデル**とは、文書をベクトルとしてモデル化する手法のひとつ。\n",
        " * 他にもそのような手法はある。\n",
        "* bag-of-wordsモデルにおいては、文書における単語トークンの**出現順序が無視される**。\n",
        " * 単語トークンとは、単語の一回一回の出現のこと。\n",
        "* つまり、文書を、バッグに入ったアイテムの集まりのように扱うモデリング（下図参照）。\n",
        " * 数学的に言えば、文書を単語の**multiset**として扱うのがbag-of-wordsモデル。\n",
        "\n",
        "* 参考資料\n",
        " * https://github.com/aws-samples/aws-machine-learning-university-accelerated-nlp/blob/master/notebooks/MLA-NLP-Lecture1-BOW.ipynb\n",
        "\n"
      ]
    },
    {
      "cell_type": "markdown",
      "metadata": {
        "id": "LBk-WNX4IRVb",
        "colab_type": "text"
      },
      "source": [
        "![bag-of-words.png](./bag-of-words.png)",
        "\n",
        "https://dudeperf3ct.github.io/lstm/gru/nlp/2019/01/28/Force-of-LSTM-and-GRU/"
      ]
    },
    {
      "cell_type": "markdown",
      "metadata": {
        "id": "_-5GrvauMKDq",
        "colab_type": "text"
      },
      "source": [
        "* 現在では、言語データをモデル化するとき、必ずと言っていいほど、単語（あるいはsubword）のベクトル表現を用いる。\n",
        "* この単語ベクトル表現は、埋め込みembeddingとも呼ばれるし、分散表現とも呼ばれる。\n",
        "* 単語埋め込みが急速に普及したのは、深層学習の普及とほぼ同時期。\n",
        "* それまではbag-of-wordsが広く使われていた。\n",
        "* 論文では今でも、文書分類のbaselineとして、TF-IDFやBM25など、bag-of-wordsモデルが引き合いに出されることがある。\n",
        " * 例えば、文書分類の新手法を考え出してもbag-of-wordsに勝てなければ意味がない、といった使い方をされる。\n",
        "* そのため、授業の最初のトピックとして、bag-of-wordモデルについて簡単に説明しておく。\n",
        " * BM25については右リンクを参照。 https://nlp.stanford.edu/IR-book/html/htmledition/okapi-bm25-a-non-binary-model-1.html"
      ]
    },
    {
      "cell_type": "markdown",
      "metadata": {
        "id": "9Jn1BM6BJtei",
        "colab_type": "text"
      },
      "source": [
        "\n",
        "\n",
        "---\n",
        "\n",
        "\n",
        "興味がある方は、スタンフォード大の自然言語処理の授業が、この10年間でいかに大きく内容を変えているか、調べてみましょう。\n",
        "\n",
        "https://web.stanford.edu/class/archive/cs/cs224n/cs224n.1194/index.html"
      ]
    },
    {
      "cell_type": "markdown",
      "metadata": {
        "id": "pJZFJ9B0KNQO",
        "colab_type": "text"
      },
      "source": [
        "## 00-01 binary vector\n",
        "* 最も単純には、文書は、語彙に含まれる各単語が出現するかしないかの2値ベクトルでモデル化できる。"
      ]
    },
    {
      "cell_type": "markdown",
      "metadata": {
        "id": "Uhf7MJe4NH3P",
        "colab_type": "text"
      },
      "source": [
        "### scikit-learnのCountVectorizer\n",
        "* 各documentは、半角スペースでつながれた単語の列として準備しておく。\n",
        " * これをどうやって作るかは、後で説明する。\n",
        "* binaryをTrueにセットすると、0/1の2値ベクトルが得られる。\n",
        "* インスタンスを作り、fit_transformする、という使い方は、scikit-learnにおけるデータの前処理のときと同様。"
      ]
    },
    {
      "cell_type": "code",
      "metadata": {
        "id": "mAsV0OzFGKr8",
        "colab_type": "code",
        "colab": {}
      },
      "source": [
        "from sklearn.feature_extraction.text import CountVectorizer"
      ],
      "execution_count": null,
      "outputs": []
    },
    {
      "cell_type": "markdown",
      "metadata": {
        "id": "NSPMo5HnOeLK",
        "colab_type": "text"
      },
      "source": [
        "### 文書の集合＝コーパスを用意する。"
      ]
    },
    {
      "cell_type": "code",
      "metadata": {
        "id": "3JvB4acfMxQq",
        "colab_type": "code",
        "colab": {}
      },
      "source": [
        "corpus = [\"This document is the first document.\",\n",
        "          \"This document is the second document.\",\n",
        "          \"And this is the third one.\",\n",
        "          \"Where is the fourth one?\"]"
      ],
      "execution_count": null,
      "outputs": []
    },
    {
      "cell_type": "markdown",
      "metadata": {
        "id": "N9piYSlbPSan",
        "colab_type": "text"
      },
      "source": [
        "### CountVectorizerをbinary=Trueで使う"
      ]
    },
    {
      "cell_type": "code",
      "metadata": {
        "id": "tEcGpcc4M7bo",
        "colab_type": "code",
        "colab": {}
      },
      "source": [
        "binary_vectorizer = CountVectorizer(binary=True) # 2値ベクトルとして表現\n",
        "X = binary_vectorizer.fit_transform(corpus)"
      ],
      "execution_count": null,
      "outputs": []
    },
    {
      "cell_type": "markdown",
      "metadata": {
        "id": "16VoXJLcNtmW",
        "colab_type": "text"
      },
      "source": [
        "### 文書の2値ベクトル表現の確認\n",
        "* 疎なベクトルとして得られることに注意。"
      ]
    },
    {
      "cell_type": "code",
      "metadata": {
        "id": "8Nl4fjykNDo7",
        "colab_type": "code",
        "colab": {
          "base_uri": "https://localhost:8080/",
          "height": 370
        },
        "outputId": "304d6e9c-e976-4253-bef7-da1789f77f2f"
      },
      "source": [
        "print(X)"
      ],
      "execution_count": null,
      "outputs": [
        {
          "output_type": "stream",
          "text": [
            "  (0, 9)\t1\n",
            "  (0, 1)\t1\n",
            "  (0, 4)\t1\n",
            "  (0, 7)\t1\n",
            "  (0, 2)\t1\n",
            "  (1, 9)\t1\n",
            "  (1, 1)\t1\n",
            "  (1, 4)\t1\n",
            "  (1, 7)\t1\n",
            "  (1, 6)\t1\n",
            "  (2, 9)\t1\n",
            "  (2, 4)\t1\n",
            "  (2, 7)\t1\n",
            "  (2, 0)\t1\n",
            "  (2, 8)\t1\n",
            "  (2, 5)\t1\n",
            "  (3, 4)\t1\n",
            "  (3, 7)\t1\n",
            "  (3, 5)\t1\n",
            "  (3, 10)\t1\n",
            "  (3, 3)\t1\n"
          ],
          "name": "stdout"
        }
      ]
    },
    {
      "cell_type": "markdown",
      "metadata": {
        "id": "xUICjJZ2N6px",
        "colab_type": "text"
      },
      "source": [
        "### 疎な表現を通常のndarrayに戻す"
      ]
    },
    {
      "cell_type": "code",
      "metadata": {
        "id": "rJYPyDPDNsIL",
        "colab_type": "code",
        "colab": {
          "base_uri": "https://localhost:8080/",
          "height": 84
        },
        "outputId": "1691ab4e-45fb-4004-b7fc-457b682fc881"
      },
      "source": [
        "X.toarray()"
      ],
      "execution_count": null,
      "outputs": [
        {
          "output_type": "execute_result",
          "data": {
            "text/plain": [
              "array([[0, 1, 1, 0, 1, 0, 0, 1, 0, 1, 0],\n",
              "       [0, 1, 0, 0, 1, 0, 1, 1, 0, 1, 0],\n",
              "       [1, 0, 0, 0, 1, 1, 0, 1, 1, 1, 0],\n",
              "       [0, 0, 0, 1, 1, 1, 0, 1, 0, 0, 1]])"
            ]
          },
          "metadata": {
            "tags": []
          },
          "execution_count": 5
        }
      ]
    },
    {
      "cell_type": "markdown",
      "metadata": {
        "id": "XzbZQPHuOAIP",
        "colab_type": "text"
      },
      "source": [
        "### 語彙を得る\n",
        "* 先頭の大文字は自動的に小文字に変換されていることが分かる。\n",
        "* ピリオドや疑問符は削除されている。"
      ]
    },
    {
      "cell_type": "code",
      "metadata": {
        "id": "oQAAI9LKN5vL",
        "colab_type": "code",
        "colab": {
          "base_uri": "https://localhost:8080/",
          "height": 202
        },
        "outputId": "2881e634-0c04-4dc4-e332-7e760c9d1696"
      },
      "source": [
        "binary_vectorizer.vocabulary_"
      ],
      "execution_count": null,
      "outputs": [
        {
          "output_type": "execute_result",
          "data": {
            "text/plain": [
              "{'and': 0,\n",
              " 'document': 1,\n",
              " 'first': 2,\n",
              " 'fourth': 3,\n",
              " 'is': 4,\n",
              " 'one': 5,\n",
              " 'second': 6,\n",
              " 'the': 7,\n",
              " 'third': 8,\n",
              " 'this': 9,\n",
              " 'where': 10}"
            ]
          },
          "metadata": {
            "tags": []
          },
          "execution_count": 6
        }
      ]
    },
    {
      "cell_type": "code",
      "metadata": {
        "id": "6P1dFVlcN_Pd",
        "colab_type": "code",
        "colab": {
          "base_uri": "https://localhost:8080/",
          "height": 34
        },
        "outputId": "94a5fdb0-7207-4599-ad08-f84cc58809dd"
      },
      "source": [
        "print(binary_vectorizer.get_feature_names())"
      ],
      "execution_count": null,
      "outputs": [
        {
          "output_type": "stream",
          "text": [
            "['and', 'document', 'first', 'fourth', 'is', 'one', 'second', 'the', 'third', 'this', 'where']\n"
          ],
          "name": "stdout"
        }
      ]
    },
    {
      "cell_type": "markdown",
      "metadata": {
        "id": "m4AeNQK2P1GW",
        "colab_type": "text"
      },
      "source": [
        "### 新しい文書をベクトルに変換する"
      ]
    },
    {
      "cell_type": "code",
      "metadata": {
        "id": "egmnVXnHPbkX",
        "colab_type": "code",
        "colab": {}
      },
      "source": [
        "new_doc = [\"This is the new document.\"]\n",
        "\n",
        "new_vectors = binary_vectorizer.transform(new_doc)"
      ],
      "execution_count": null,
      "outputs": []
    },
    {
      "cell_type": "markdown",
      "metadata": {
        "id": "MHWGA6W4Psto",
        "colab_type": "text"
      },
      "source": [
        "### 新出の単語は無視される点に注意"
      ]
    },
    {
      "cell_type": "code",
      "metadata": {
        "id": "RqnzGOgmPj5B",
        "colab_type": "code",
        "colab": {
          "base_uri": "https://localhost:8080/",
          "height": 34
        },
        "outputId": "470869d3-209f-43e1-b9d7-614541237985"
      },
      "source": [
        "new_vectors.toarray()"
      ],
      "execution_count": null,
      "outputs": [
        {
          "output_type": "execute_result",
          "data": {
            "text/plain": [
              "array([[0, 1, 0, 0, 1, 0, 0, 1, 0, 1, 0]])"
            ]
          },
          "metadata": {
            "tags": []
          },
          "execution_count": 9
        }
      ]
    },
    {
      "cell_type": "markdown",
      "metadata": {
        "id": "OTPClzcmP84l",
        "colab_type": "text"
      },
      "source": [
        "## 00-02 word counts\n",
        "* 文書における各単語の出現回数を使って、文書のベクトル表現を得ることもできる。"
      ]
    },
    {
      "cell_type": "markdown",
      "metadata": {
        "id": "oCBPOUUoQNoC",
        "colab_type": "text"
      },
      "source": [
        "### CountVectorizerをデフォルト設定で使う"
      ]
    },
    {
      "cell_type": "code",
      "metadata": {
        "id": "hZNhmGTuPmo4",
        "colab_type": "code",
        "colab": {}
      },
      "source": [
        "count_vectorizer = CountVectorizer()\n",
        "X = count_vectorizer.fit_transform(corpus)"
      ],
      "execution_count": null,
      "outputs": []
    },
    {
      "cell_type": "code",
      "metadata": {
        "id": "3yzMyTrhQWmW",
        "colab_type": "code",
        "colab": {
          "base_uri": "https://localhost:8080/",
          "height": 84
        },
        "outputId": "17c56a5b-2d8a-415e-fb77-13a6615a2474"
      },
      "source": [
        "X.toarray()"
      ],
      "execution_count": null,
      "outputs": [
        {
          "output_type": "execute_result",
          "data": {
            "text/plain": [
              "array([[0, 2, 1, 0, 1, 0, 0, 1, 0, 1, 0],\n",
              "       [0, 2, 0, 0, 1, 0, 1, 1, 0, 1, 0],\n",
              "       [1, 0, 0, 0, 1, 1, 0, 1, 1, 1, 0],\n",
              "       [0, 0, 0, 1, 1, 1, 0, 1, 0, 0, 1]])"
            ]
          },
          "metadata": {
            "tags": []
          },
          "execution_count": 11
        }
      ]
    },
    {
      "cell_type": "code",
      "metadata": {
        "id": "eE_YpgstQfL_",
        "colab_type": "code",
        "colab": {
          "base_uri": "https://localhost:8080/",
          "height": 34
        },
        "outputId": "356c277f-ccae-434f-db19-0db710644da9"
      },
      "source": [
        "new_vectors = count_vectorizer.transform(new_doc)\n",
        "new_vectors.toarray()"
      ],
      "execution_count": null,
      "outputs": [
        {
          "output_type": "execute_result",
          "data": {
            "text/plain": [
              "array([[0, 1, 0, 0, 1, 0, 0, 1, 0, 1, 0]])"
            ]
          },
          "metadata": {
            "tags": []
          },
          "execution_count": 12
        }
      ]
    },
    {
      "cell_type": "markdown",
      "metadata": {
        "id": "r7M88Lm1QwQF",
        "colab_type": "text"
      },
      "source": [
        "## 00-03 TF-IDF\n",
        "* TF-IDFは、TFとIDFの積である。\n",
        "* 文書に含まれる単語トークンの数（つまり、単語の出現回数の総和）を、その文書の長さと呼ぶ。\n",
        "* TFとは、各々の単語が文書のなかで出現する回数を、その文書の長さで割ったものである。\n",
        " * 文書のなかで頻出する単語ほどTFは大きくなる。\n",
        "* IDFとは、DFの逆数である。\n",
        "* DFとは、ある単語が含まれる文書の数を、総文書数で割ったものである。\n",
        " * 文書集合のなかで稀少な単語ほどIDFは大きくなる。\n",
        "\n",
        "* TF-IDFはTFとIDFの積であるが、積を求める前に、TFのルートを取ったり対数をとったり、あるいは、IDFのルートをとったり対数をとったりする。\n",
        " * 対数をとるときは、ゼロの対数をとることにならないような工夫をする。\n",
        "\n",
        "\n",
        "---\n",
        "\n"
      ]
    },
    {
      "cell_type": "markdown",
      "metadata": {
        "id": "q0RtY0PtSq3D",
        "colab_type": "text"
      },
      "source": [
        "### TF-IDFの式の例\n",
        "\n",
        "\\begin{align}\n",
        "x_{d,w} = \\frac{n_{d,w}}{n_d} \\cdot ( 1 + \\ln\\frac{m}{m_w}) \\tag{1}\n",
        "\\end{align}\n",
        "\n",
        "where \n",
        "\n",
        " * $n_{d,w}$ is the frequency of the word $w$ in the document $d$, \n",
        " * $n_d$ is defined as $n_d \\equiv \\sum_w n_{d,w}$,\n",
        " * $m_w$ is the number of documents containing the word $w$, and\n",
        " * $m$ is the total number of documents.\n",
        "\n",
        "\n",
        "---\n",
        "\n",
        "* どの式の形がいいかは、downstream taskの性能をcross validationで評価して選ぶ。"
      ]
    },
    {
      "cell_type": "markdown",
      "metadata": {
        "id": "fsLF9WdGHgFD",
        "colab_type": "text"
      },
      "source": [
        "![img462.png](data:image/png;base64,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)\n",
        "\n",
        "https://nlp.stanford.edu/IR-book/html/htmledition/document-and-query-weighting-schemes-1.html"
      ]
    },
    {
      "cell_type": "markdown",
      "metadata": {
        "id": "7XfakOH8HqZ9",
        "colab_type": "text"
      },
      "source": [
        "\n",
        "\n",
        "---\n",
        "\n"
      ]
    },
    {
      "cell_type": "markdown",
      "metadata": {
        "id": "N9_0aZB0TOnl",
        "colab_type": "text"
      },
      "source": [
        "### scikit-learnのTfidfVectorizer"
      ]
    },
    {
      "cell_type": "code",
      "metadata": {
        "id": "9KisBcoHQjn8",
        "colab_type": "code",
        "colab": {}
      },
      "source": [
        "from sklearn.feature_extraction.text import TfidfVectorizer\n",
        "\n",
        "tfidf_vectorizer = TfidfVectorizer()"
      ],
      "execution_count": null,
      "outputs": []
    },
    {
      "cell_type": "code",
      "metadata": {
        "id": "aZYEcdYaTV28",
        "colab_type": "code",
        "colab": {
          "base_uri": "https://localhost:8080/",
          "height": 218
        },
        "outputId": "869be5f9-759b-4495-ae93-0eca9787a42b"
      },
      "source": [
        "X = tfidf_vectorizer.fit_transform(corpus).toarray()\n",
        "\n",
        "X"
      ],
      "execution_count": null,
      "outputs": [
        {
          "output_type": "execute_result",
          "data": {
            "text/plain": [
              "array([[0.        , 0.74846041, 0.47466356, 0.        , 0.24769914,\n",
              "        0.        , 0.        , 0.24769914, 0.        , 0.3029716 ,\n",
              "        0.        ],\n",
              "       [0.        , 0.74846041, 0.        , 0.        , 0.24769914,\n",
              "        0.        , 0.47466356, 0.24769914, 0.        , 0.3029716 ,\n",
              "        0.        ],\n",
              "       [0.52898651, 0.        , 0.        , 0.        , 0.2760471 ,\n",
              "        0.41705904, 0.        , 0.2760471 , 0.52898651, 0.33764523,\n",
              "        0.        ],\n",
              "       [0.        , 0.        , 0.        , 0.56199026, 0.29326983,\n",
              "        0.44307958, 0.        , 0.29326983, 0.        , 0.        ,\n",
              "        0.56199026]])"
            ]
          },
          "metadata": {
            "tags": []
          },
          "execution_count": 14
        }
      ]
    },
    {
      "cell_type": "code",
      "metadata": {
        "id": "6kSbn0uyUxOs",
        "colab_type": "code",
        "colab": {
          "base_uri": "https://localhost:8080/",
          "height": 34
        },
        "outputId": "6d91f806-c6ba-40b2-ddc8-272d4cd6fc45"
      },
      "source": [
        "import numpy as np\n",
        "np.linalg.norm(X, axis=1)"
      ],
      "execution_count": null,
      "outputs": [
        {
          "output_type": "execute_result",
          "data": {
            "text/plain": [
              "array([1., 1., 1., 1.])"
            ]
          },
          "metadata": {
            "tags": []
          },
          "execution_count": 15
        }
      ]
    },
    {
      "cell_type": "code",
      "metadata": {
        "id": "fZ-M-qZjTYsL",
        "colab_type": "code",
        "colab": {
          "base_uri": "https://localhost:8080/",
          "height": 67
        },
        "outputId": "51e44620-c185-471e-ef73-524fdbccf126"
      },
      "source": [
        "new_vectors = tfidf_vectorizer.transform(new_doc).toarray()\n",
        "new_vectors"
      ],
      "execution_count": null,
      "outputs": [
        {
          "output_type": "execute_result",
          "data": {
            "text/plain": [
              "array([[0.        , 0.6284927 , 0.        , 0.        , 0.41599288,\n",
              "        0.        , 0.        , 0.41599288, 0.        , 0.50881901,\n",
              "        0.        ]])"
            ]
          },
          "metadata": {
            "tags": []
          },
          "execution_count": 16
        }
      ]
    },
    {
      "cell_type": "markdown",
      "metadata": {
        "id": "--XKc4eATjf_",
        "colab_type": "text"
      },
      "source": [
        "### 各単語のIDF\n",
        "* IDFはそれぞれの単語について一意に決まる値。\n",
        "* 文書ごとに求まる値ではない。"
      ]
    },
    {
      "cell_type": "code",
      "metadata": {
        "id": "ugsq3YAtTfRx",
        "colab_type": "code",
        "colab": {
          "base_uri": "https://localhost:8080/",
          "height": 67
        },
        "outputId": "85cd219b-4443-4aaa-95a8-93923907868a"
      },
      "source": [
        "tfidf_vectorizer.idf_"
      ],
      "execution_count": null,
      "outputs": [
        {
          "output_type": "execute_result",
          "data": {
            "text/plain": [
              "array([1.91629073, 1.51082562, 1.91629073, 1.91629073, 1.        ,\n",
              "       1.51082562, 1.91629073, 1.        , 1.91629073, 1.22314355,\n",
              "       1.91629073])"
            ]
          },
          "metadata": {
            "tags": []
          },
          "execution_count": 17
        }
      ]
    },
    {
      "cell_type": "markdown",
      "metadata": {
        "id": "z8niqN06T-eX",
        "colab_type": "text"
      },
      "source": [
        "### bag-of-wordsベクトルの使い方\n",
        "* 文書どうしの類似度の計算"
      ]
    },
    {
      "cell_type": "code",
      "metadata": {
        "id": "FP0KvdykThdg",
        "colab_type": "code",
        "colab": {
          "base_uri": "https://localhost:8080/",
          "height": 84
        },
        "outputId": "35c9d3af-55f0-4f33-e6f1-c5444c184a8e"
      },
      "source": [
        "from scipy.spatial.distance import cosine\n",
        "\n",
        "for i in range(4):\n",
        "  print(cosine(X[i], new_vectors[0]))"
      ],
      "execution_count": null,
      "outputs": [
        {
          "output_type": "stream",
          "text": [
            "0.16935823372188463\n",
            "0.16935823372188452\n",
            "0.598532429668177\n",
            "0.756003678372484\n"
          ],
          "name": "stdout"
        }
      ]
    },
    {
      "cell_type": "code",
      "metadata": {
        "id": "rqy9uyysUKGd",
        "colab_type": "code",
        "colab": {}
      },
      "source": [
        ""
      ],
      "execution_count": null,
      "outputs": []
    }
  ]
}
