{
  "nbformat": 4,
  "nbformat_minor": 0,
  "metadata": {
    "colab": {
      "name": "00_bag-of-words.ipynb",
      "provenance": [],
      "collapsed_sections": [],
      "authorship_tag": "ABX9TyNU/niSYoTtuyWaTakdHqL1",
      "include_colab_link": true
    },
    "kernelspec": {
      "name": "python3",
      "display_name": "Python 3"
    }
  },
  "cells": [
    {
      "cell_type": "markdown",
      "metadata": {
        "id": "view-in-github",
        "colab_type": "text"
      },
      "source": [
        "<a href=\"https://colab.research.google.com/github/tomonari-masada/course-nlp2020/blob/master/00_bag_of_words.ipynb\" target=\"_parent\"><img src=\"https://colab.research.google.com/assets/colab-badge.svg\" alt=\"Open In Colab\"/></a>"
      ]
    },
    {
      "cell_type": "markdown",
      "metadata": {
        "id": "PKEP5r0nOxjd",
        "colab_type": "text"
      },
      "source": [
        "### 軽い前置き\n",
        "* この授業では、Pythonのコーディングの基礎は習得済みであることを前提します。\n",
        "* また、NumPyやscikit-learnの基本的な使い方は習得済みであることを前提します。"
      ]
    },
    {
      "cell_type": "markdown",
      "metadata": {
        "id": "z57oKsOVGOWf",
        "colab_type": "text"
      },
      "source": [
        "# 00 bag-of-wordsモデル\n",
        "* **bag-of-wordsモデル**とは、文書をベクトルとしてモデル化する手法のひとつ。\n",
        " * 他にもそのような手法はある。\n",
        "* bag-of-wordsモデルにおいては、文書における単語トークンの**出現順序が無視される**。\n",
        " * 単語トークンとは、単語の一回一回の出現のこと。\n",
        "* つまり、文書を、バッグに入ったアイテムの集まりのように扱うモデリング（下図参照）。\n",
        " * 数学的に言えば、文書を単語の**multiset**として扱うのがbag-of-wordsモデル。\n",
        "\n",
        "* 参考資料\n",
        " * https://github.com/aws-samples/aws-machine-learning-university-accelerated-nlp/blob/master/notebooks/MLA-NLP-Lecture1-BOW.ipynb\n",
        "\n"
      ]
    },
    {
      "cell_type": "markdown",
      "metadata": {
        "id": "LBk-WNX4IRVb",
        "colab_type": "text"
      },
      "source": [
        "![bag-of-words.png](./bag-of-words.png)",
        "\n",
        "https://dudeperf3ct.github.io/lstm/gru/nlp/2019/01/28/Force-of-LSTM-and-GRU/"
      ]
    },
    {
      "cell_type": "markdown",
      "metadata": {
        "id": "_-5GrvauMKDq",
        "colab_type": "text"
      },
      "source": [
        "* 現在では、言語データをモデル化するとき、必ずと言っていいほど、単語（あるいはsubword）のベクトル表現を用いる。\n",
        "* この単語ベクトル表現は、埋め込みembeddingとも呼ばれるし、分散表現とも呼ばれる。\n",
        "* 単語埋め込みが急速に普及したのは、深層学習の普及とほぼ同時期。\n",
        "* それまではbag-of-wordsが広く使われていた。\n",
        "* 論文では今でも、文書分類のbaselineとして、TF-IDFやBM25など、bag-of-wordsモデルが引き合いに出されることがある。\n",
        " * 例えば、文書分類の新手法を考え出してもbag-of-wordsに勝てなければ意味がない、といった使い方をされる。\n",
        "* そのため、授業の最初のトピックとして、bag-of-wordモデルについて簡単に説明しておく。\n",
        " * BM25については右リンクを参照。 https://nlp.stanford.edu/IR-book/html/htmledition/okapi-bm25-a-non-binary-model-1.html"
      ]
    },
    {
      "cell_type": "markdown",
      "metadata": {
        "id": "9Jn1BM6BJtei",
        "colab_type": "text"
      },
      "source": [
        "\n",
        "\n",
        "---\n",
        "\n",
        "\n",
        "興味がある方は、スタンフォード大の自然言語処理の授業が、この10年間でいかに大きく内容を変えているか、調べてみましょう。\n",
        "\n",
        "https://web.stanford.edu/class/archive/cs/cs224n/cs224n.1194/index.html"
      ]
    },
    {
      "cell_type": "markdown",
      "metadata": {
        "id": "pJZFJ9B0KNQO",
        "colab_type": "text"
      },
      "source": [
        "## 00-01 binary vector\n",
        "* 最も単純には、文書は、語彙に含まれる各単語が出現するかしないかの2値ベクトルでモデル化できる。"
      ]
    },
    {
      "cell_type": "markdown",
      "metadata": {
        "id": "Uhf7MJe4NH3P",
        "colab_type": "text"
      },
      "source": [
        "### scikit-learnのCountVectorizer\n",
        "* 各documentは、半角スペースでつながれた単語の列として準備しておく。\n",
        " * これをどうやって作るかは、後で説明する。\n",
        "* binaryをTrueにセットすると、0/1の2値ベクトルが得られる。\n",
        "* インスタンスを作り、fit_transformする、という使い方は、scikit-learnにおけるデータの前処理のときと同様。"
      ]
    },
    {
      "cell_type": "code",
      "metadata": {
        "id": "mAsV0OzFGKr8",
        "colab_type": "code",
        "colab": {}
      },
      "source": [
        "from sklearn.feature_extraction.text import CountVectorizer"
      ],
      "execution_count": null,
      "outputs": []
    },
    {
      "cell_type": "markdown",
      "metadata": {
        "id": "NSPMo5HnOeLK",
        "colab_type": "text"
      },
      "source": [
        "### 文書の集合＝コーパスを用意する。"
      ]
    },
    {
      "cell_type": "code",
      "metadata": {
        "id": "3JvB4acfMxQq",
        "colab_type": "code",
        "colab": {}
      },
      "source": [
        "corpus = [\"This document is the first document.\",\n",
        "          \"This document is the second document.\",\n",
        "          \"And this is the third one.\",\n",
        "          \"Where is the fourth one?\"]"
      ],
      "execution_count": null,
      "outputs": []
    },
    {
      "cell_type": "markdown",
      "metadata": {
        "id": "N9piYSlbPSan",
        "colab_type": "text"
      },
      "source": [
        "### CountVectorizerをbinary=Trueで使う"
      ]
    },
    {
      "cell_type": "code",
      "metadata": {
        "id": "tEcGpcc4M7bo",
        "colab_type": "code",
        "colab": {}
      },
      "source": [
        "binary_vectorizer = CountVectorizer(binary=True) # 2値ベクトルとして表現\n",
        "X = binary_vectorizer.fit_transform(corpus)"
      ],
      "execution_count": null,
      "outputs": []
    },
    {
      "cell_type": "markdown",
      "metadata": {
        "id": "16VoXJLcNtmW",
        "colab_type": "text"
      },
      "source": [
        "### 文書の2値ベクトル表現の確認\n",
        "* 疎なベクトルとして得られることに注意。"
      ]
    },
    {
      "cell_type": "code",
      "metadata": {
        "id": "8Nl4fjykNDo7",
        "colab_type": "code",
        "colab": {
          "base_uri": "https://localhost:8080/",
          "height": 370
        },
        "outputId": "304d6e9c-e976-4253-bef7-da1789f77f2f"
      },
      "source": [
        "print(X)"
      ],
      "execution_count": null,
      "outputs": [
        {
          "output_type": "stream",
          "text": [
            "  (0, 9)\t1\n",
            "  (0, 1)\t1\n",
            "  (0, 4)\t1\n",
            "  (0, 7)\t1\n",
            "  (0, 2)\t1\n",
            "  (1, 9)\t1\n",
            "  (1, 1)\t1\n",
            "  (1, 4)\t1\n",
            "  (1, 7)\t1\n",
            "  (1, 6)\t1\n",
            "  (2, 9)\t1\n",
            "  (2, 4)\t1\n",
            "  (2, 7)\t1\n",
            "  (2, 0)\t1\n",
            "  (2, 8)\t1\n",
            "  (2, 5)\t1\n",
            "  (3, 4)\t1\n",
            "  (3, 7)\t1\n",
            "  (3, 5)\t1\n",
            "  (3, 10)\t1\n",
            "  (3, 3)\t1\n"
          ],
          "name": "stdout"
        }
      ]
    },
    {
      "cell_type": "markdown",
      "metadata": {
        "id": "xUICjJZ2N6px",
        "colab_type": "text"
      },
      "source": [
        "### 疎な表現を通常のndarrayに戻す"
      ]
    },
    {
      "cell_type": "code",
      "metadata": {
        "id": "rJYPyDPDNsIL",
        "colab_type": "code",
        "colab": {
          "base_uri": "https://localhost:8080/",
          "height": 84
        },
        "outputId": "1691ab4e-45fb-4004-b7fc-457b682fc881"
      },
      "source": [
        "X.toarray()"
      ],
      "execution_count": null,
      "outputs": [
        {
          "output_type": "execute_result",
          "data": {
            "text/plain": [
              "array([[0, 1, 1, 0, 1, 0, 0, 1, 0, 1, 0],\n",
              "       [0, 1, 0, 0, 1, 0, 1, 1, 0, 1, 0],\n",
              "       [1, 0, 0, 0, 1, 1, 0, 1, 1, 1, 0],\n",
              "       [0, 0, 0, 1, 1, 1, 0, 1, 0, 0, 1]])"
            ]
          },
          "metadata": {
            "tags": []
          },
          "execution_count": 5
        }
      ]
    },
    {
      "cell_type": "markdown",
      "metadata": {
        "id": "XzbZQPHuOAIP",
        "colab_type": "text"
      },
      "source": [
        "### 語彙を得る\n",
        "* 先頭の大文字は自動的に小文字に変換されていることが分かる。\n",
        "* ピリオドや疑問符は削除されている。"
      ]
    },
    {
      "cell_type": "code",
      "metadata": {
        "id": "oQAAI9LKN5vL",
        "colab_type": "code",
        "colab": {
          "base_uri": "https://localhost:8080/",
          "height": 202
        },
        "outputId": "2881e634-0c04-4dc4-e332-7e760c9d1696"
      },
      "source": [
        "binary_vectorizer.vocabulary_"
      ],
      "execution_count": null,
      "outputs": [
        {
          "output_type": "execute_result",
          "data": {
            "text/plain": [
              "{'and': 0,\n",
              " 'document': 1,\n",
              " 'first': 2,\n",
              " 'fourth': 3,\n",
              " 'is': 4,\n",
              " 'one': 5,\n",
              " 'second': 6,\n",
              " 'the': 7,\n",
              " 'third': 8,\n",
              " 'this': 9,\n",
              " 'where': 10}"
            ]
          },
          "metadata": {
            "tags": []
          },
          "execution_count": 6
        }
      ]
    },
    {
      "cell_type": "code",
      "metadata": {
        "id": "6P1dFVlcN_Pd",
        "colab_type": "code",
        "colab": {
          "base_uri": "https://localhost:8080/",
          "height": 34
        },
        "outputId": "94a5fdb0-7207-4599-ad08-f84cc58809dd"
      },
      "source": [
        "print(binary_vectorizer.get_feature_names())"
      ],
      "execution_count": null,
      "outputs": [
        {
          "output_type": "stream",
          "text": [
            "['and', 'document', 'first', 'fourth', 'is', 'one', 'second', 'the', 'third', 'this', 'where']\n"
          ],
          "name": "stdout"
        }
      ]
    },
    {
      "cell_type": "markdown",
      "metadata": {
        "id": "m4AeNQK2P1GW",
        "colab_type": "text"
      },
      "source": [
        "### 新しい文書をベクトルに変換する"
      ]
    },
    {
      "cell_type": "code",
      "metadata": {
        "id": "egmnVXnHPbkX",
        "colab_type": "code",
        "colab": {}
      },
      "source": [
        "new_doc = [\"This is the new document.\"]\n",
        "\n",
        "new_vectors = binary_vectorizer.transform(new_doc)"
      ],
      "execution_count": null,
      "outputs": []
    },
    {
      "cell_type": "markdown",
      "metadata": {
        "id": "MHWGA6W4Psto",
        "colab_type": "text"
      },
      "source": [
        "### 新出の単語は無視される点に注意"
      ]
    },
    {
      "cell_type": "code",
      "metadata": {
        "id": "RqnzGOgmPj5B",
        "colab_type": "code",
        "colab": {
          "base_uri": "https://localhost:8080/",
          "height": 34
        },
        "outputId": "470869d3-209f-43e1-b9d7-614541237985"
      },
      "source": [
        "new_vectors.toarray()"
      ],
      "execution_count": null,
      "outputs": [
        {
          "output_type": "execute_result",
          "data": {
            "text/plain": [
              "array([[0, 1, 0, 0, 1, 0, 0, 1, 0, 1, 0]])"
            ]
          },
          "metadata": {
            "tags": []
          },
          "execution_count": 9
        }
      ]
    },
    {
      "cell_type": "markdown",
      "metadata": {
        "id": "OTPClzcmP84l",
        "colab_type": "text"
      },
      "source": [
        "## 00-02 word counts\n",
        "* 文書における各単語の出現回数を使って、文書のベクトル表現を得ることもできる。"
      ]
    },
    {
      "cell_type": "markdown",
      "metadata": {
        "id": "oCBPOUUoQNoC",
        "colab_type": "text"
      },
      "source": [
        "### CountVectorizerをデフォルト設定で使う"
      ]
    },
    {
      "cell_type": "code",
      "metadata": {
        "id": "hZNhmGTuPmo4",
        "colab_type": "code",
        "colab": {}
      },
      "source": [
        "count_vectorizer = CountVectorizer()\n",
        "X = count_vectorizer.fit_transform(corpus)"
      ],
      "execution_count": null,
      "outputs": []
    },
    {
      "cell_type": "code",
      "metadata": {
        "id": "3yzMyTrhQWmW",
        "colab_type": "code",
        "colab": {
          "base_uri": "https://localhost:8080/",
          "height": 84
        },
        "outputId": "17c56a5b-2d8a-415e-fb77-13a6615a2474"
      },
      "source": [
        "X.toarray()"
      ],
      "execution_count": null,
      "outputs": [
        {
          "output_type": "execute_result",
          "data": {
            "text/plain": [
              "array([[0, 2, 1, 0, 1, 0, 0, 1, 0, 1, 0],\n",
              "       [0, 2, 0, 0, 1, 0, 1, 1, 0, 1, 0],\n",
              "       [1, 0, 0, 0, 1, 1, 0, 1, 1, 1, 0],\n",
              "       [0, 0, 0, 1, 1, 1, 0, 1, 0, 0, 1]])"
            ]
          },
          "metadata": {
            "tags": []
          },
          "execution_count": 11
        }
      ]
    },
    {
      "cell_type": "code",
      "metadata": {
        "id": "eE_YpgstQfL_",
        "colab_type": "code",
        "colab": {
          "base_uri": "https://localhost:8080/",
          "height": 34
        },
        "outputId": "356c277f-ccae-434f-db19-0db710644da9"
      },
      "source": [
        "new_vectors = count_vectorizer.transform(new_doc)\n",
        "new_vectors.toarray()"
      ],
      "execution_count": null,
      "outputs": [
        {
          "output_type": "execute_result",
          "data": {
            "text/plain": [
              "array([[0, 1, 0, 0, 1, 0, 0, 1, 0, 1, 0]])"
            ]
          },
          "metadata": {
            "tags": []
          },
          "execution_count": 12
        }
      ]
    },
    {
      "cell_type": "markdown",
      "metadata": {
        "id": "r7M88Lm1QwQF",
        "colab_type": "text"
      },
      "source": [
        "## 00-03 TF-IDF\n",
        "* TF-IDFは、TFとIDFの積である。\n",
        "* 文書に含まれる単語トークンの数（つまり、単語の出現回数の総和）を、その文書の長さと呼ぶ。\n",
        "* TFとは、各々の単語が文書のなかで出現する回数を、その文書の長さで割ったものである。\n",
        " * 文書のなかで頻出する単語ほどTFは大きくなる。\n",
        "* IDFとは、DFの逆数である。\n",
        "* DFとは、ある単語が含まれる文書の数を、総文書数で割ったものである。\n",
        " * 文書集合のなかで稀少な単語ほどIDFは大きくなる。\n",
        "\n",
        "* TF-IDFはTFとIDFの積であるが、積を求める前に、TFのルートを取ったり対数をとったり、あるいは、IDFのルートをとったり対数をとったりする。\n",
        " * 対数をとるときは、ゼロの対数をとることにならないような工夫をする。\n",
        "\n",
        "\n",
        "---\n",
        "\n"
      ]
    },
    {
      "cell_type": "markdown",
      "metadata": {
        "id": "q0RtY0PtSq3D",
        "colab_type": "text"
      },
      "source": [
        "### TF-IDFの式の例\n",
        "\n",
        "\\begin{align}\n",
        "x_{d,w} = \\frac{n_{d,w}}{n_d} \\cdot ( 1 + \\ln\\frac{m}{m_w}) \\tag{1}\n",
        "\\end{align}\n",
        "\n",
        "where \n",
        "\n",
        " * $n_{d,w}$ is the frequency of the word $w$ in the document $d$, \n",
        " * $n_d$ is defined as $n_d \\equiv \\sum_w n_{d,w}$,\n",
        " * $m_w$ is the number of documents containing the word $w$, and\n",
        " * $m$ is the total number of documents.\n",
        "\n",
        "\n",
        "---\n",
        "\n",
        "* どの式の形がいいかは、downstream taskの性能をcross validationで評価して選ぶ。"
      ]
    },
    {
      "cell_type": "markdown",
      "metadata": {
        "id": "fsLF9WdGHgFD",
        "colab_type": "text"
      },
      "source": [
        "![img462.png](img462.png)",
        "\n",
        "https://nlp.stanford.edu/IR-book/html/htmledition/document-and-query-weighting-schemes-1.html"
      ]
    },
    {
      "cell_type": "markdown",
      "metadata": {
        "id": "7XfakOH8HqZ9",
        "colab_type": "text"
      },
      "source": [
        "\n",
        "\n",
        "---\n",
        "\n"
      ]
    },
    {
      "cell_type": "markdown",
      "metadata": {
        "id": "N9_0aZB0TOnl",
        "colab_type": "text"
      },
      "source": [
        "### scikit-learnのTfidfVectorizer"
      ]
    },
    {
      "cell_type": "code",
      "metadata": {
        "id": "9KisBcoHQjn8",
        "colab_type": "code",
        "colab": {}
      },
      "source": [
        "from sklearn.feature_extraction.text import TfidfVectorizer\n",
        "\n",
        "tfidf_vectorizer = TfidfVectorizer()"
      ],
      "execution_count": null,
      "outputs": []
    },
    {
      "cell_type": "code",
      "metadata": {
        "id": "aZYEcdYaTV28",
        "colab_type": "code",
        "colab": {
          "base_uri": "https://localhost:8080/",
          "height": 218
        },
        "outputId": "869be5f9-759b-4495-ae93-0eca9787a42b"
      },
      "source": [
        "X = tfidf_vectorizer.fit_transform(corpus).toarray()\n",
        "\n",
        "X"
      ],
      "execution_count": null,
      "outputs": [
        {
          "output_type": "execute_result",
          "data": {
            "text/plain": [
              "array([[0.        , 0.74846041, 0.47466356, 0.        , 0.24769914,\n",
              "        0.        , 0.        , 0.24769914, 0.        , 0.3029716 ,\n",
              "        0.        ],\n",
              "       [0.        , 0.74846041, 0.        , 0.        , 0.24769914,\n",
              "        0.        , 0.47466356, 0.24769914, 0.        , 0.3029716 ,\n",
              "        0.        ],\n",
              "       [0.52898651, 0.        , 0.        , 0.        , 0.2760471 ,\n",
              "        0.41705904, 0.        , 0.2760471 , 0.52898651, 0.33764523,\n",
              "        0.        ],\n",
              "       [0.        , 0.        , 0.        , 0.56199026, 0.29326983,\n",
              "        0.44307958, 0.        , 0.29326983, 0.        , 0.        ,\n",
              "        0.56199026]])"
            ]
          },
          "metadata": {
            "tags": []
          },
          "execution_count": 14
        }
      ]
    },
    {
      "cell_type": "code",
      "metadata": {
        "id": "6kSbn0uyUxOs",
        "colab_type": "code",
        "colab": {
          "base_uri": "https://localhost:8080/",
          "height": 34
        },
        "outputId": "6d91f806-c6ba-40b2-ddc8-272d4cd6fc45"
      },
      "source": [
        "import numpy as np\n",
        "np.linalg.norm(X, axis=1)"
      ],
      "execution_count": null,
      "outputs": [
        {
          "output_type": "execute_result",
          "data": {
            "text/plain": [
              "array([1., 1., 1., 1.])"
            ]
          },
          "metadata": {
            "tags": []
          },
          "execution_count": 15
        }
      ]
    },
    {
      "cell_type": "code",
      "metadata": {
        "id": "fZ-M-qZjTYsL",
        "colab_type": "code",
        "colab": {
          "base_uri": "https://localhost:8080/",
          "height": 67
        },
        "outputId": "51e44620-c185-471e-ef73-524fdbccf126"
      },
      "source": [
        "new_vectors = tfidf_vectorizer.transform(new_doc).toarray()\n",
        "new_vectors"
      ],
      "execution_count": null,
      "outputs": [
        {
          "output_type": "execute_result",
          "data": {
            "text/plain": [
              "array([[0.        , 0.6284927 , 0.        , 0.        , 0.41599288,\n",
              "        0.        , 0.        , 0.41599288, 0.        , 0.50881901,\n",
              "        0.        ]])"
            ]
          },
          "metadata": {
            "tags": []
          },
          "execution_count": 16
        }
      ]
    },
    {
      "cell_type": "markdown",
      "metadata": {
        "id": "--XKc4eATjf_",
        "colab_type": "text"
      },
      "source": [
        "### 各単語のIDF\n",
        "* IDFはそれぞれの単語について一意に決まる値。\n",
        "* 文書ごとに求まる値ではない。"
      ]
    },
    {
      "cell_type": "code",
      "metadata": {
        "id": "ugsq3YAtTfRx",
        "colab_type": "code",
        "colab": {
          "base_uri": "https://localhost:8080/",
          "height": 67
        },
        "outputId": "85cd219b-4443-4aaa-95a8-93923907868a"
      },
      "source": [
        "tfidf_vectorizer.idf_"
      ],
      "execution_count": null,
      "outputs": [
        {
          "output_type": "execute_result",
          "data": {
            "text/plain": [
              "array([1.91629073, 1.51082562, 1.91629073, 1.91629073, 1.        ,\n",
              "       1.51082562, 1.91629073, 1.        , 1.91629073, 1.22314355,\n",
              "       1.91629073])"
            ]
          },
          "metadata": {
            "tags": []
          },
          "execution_count": 17
        }
      ]
    },
    {
      "cell_type": "markdown",
      "metadata": {
        "id": "z8niqN06T-eX",
        "colab_type": "text"
      },
      "source": [
        "### bag-of-wordsベクトルの使い方\n",
        "* 文書どうしの類似度の計算"
      ]
    },
    {
      "cell_type": "code",
      "metadata": {
        "id": "FP0KvdykThdg",
        "colab_type": "code",
        "colab": {
          "base_uri": "https://localhost:8080/",
          "height": 84
        },
        "outputId": "35c9d3af-55f0-4f33-e6f1-c5444c184a8e"
      },
      "source": [
        "from scipy.spatial.distance import cosine\n",
        "\n",
        "for i in range(4):\n",
        "  print(cosine(X[i], new_vectors[0]))"
      ],
      "execution_count": null,
      "outputs": [
        {
          "output_type": "stream",
          "text": [
            "0.16935823372188463\n",
            "0.16935823372188452\n",
            "0.598532429668177\n",
            "0.756003678372484\n"
          ],
          "name": "stdout"
        }
      ]
    },
    {
      "cell_type": "code",
      "metadata": {
        "id": "rqy9uyysUKGd",
        "colab_type": "code",
        "colab": {}
      },
      "source": [
        ""
      ],
      "execution_count": null,
      "outputs": []
    }
  ]
}
